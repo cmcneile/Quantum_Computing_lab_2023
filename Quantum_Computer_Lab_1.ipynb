{
 "cells": [
  {
   "cell_type": "markdown",
   "id": "233aa3ed-825c-4ba7-8d18-76587107c5f9",
   "metadata": {},
   "source": [
    "# Quantum Computer lab 1 \n",
    "\n",
    "These lab exercises are **NOT** part of the assesment of the module, but they should be useful training for the coursework."
   ]
  },
  {
   "cell_type": "markdown",
   "id": "1e7c3a5d-3020-4f0e-ba62-68079ec4d0a8",
   "metadata": {},
   "source": [
    "* This notebook introduces some of the basic quantum circuit functionality in the qiskit module\n",
    "* Please run the code to make sure it works, then try the questions.\n",
    "\n",
    "There is documentation about qiskit at https://qiskit.org/ and https://learning.quantum-computing.ibm.com/"
   ]
  },
  {
   "cell_type": "markdown",
   "id": "f11b08b6-7848-4409-8ce9-6dc0b1691565",
   "metadata": {},
   "source": [
    "##  Goals of the lab\n",
    "* Install and run the qiskit modules\n",
    "* Simulate quantum circuits using qiskit\n",
    "* Use qiskit to produce state vectors from quantum circuits\n",
    "* Navigate the qiskit documentation to solve problems\n",
    "\n",
    "In later labs we will investigate introducing additional errors"
   ]
  },
  {
   "cell_type": "markdown",
   "id": "d2cef19d-c573-4fe0-80a2-94019bcdd167",
   "metadata": {},
   "source": [
    "## Installing qiskit\n",
    "\n",
    "There is information on installing qiskit at:  https://qiskit.org/documentation/getting_started.html\n",
    "I really recommend using a virtual enviroment to install qiskit\n",
    "\n",
    "* You can run on IBM's simulator using  https://quantum-computing.ibm.com/\n"
   ]
  },
  {
   "cell_type": "markdown",
   "id": "b8e63879-a6e0-49f5-a1c9-595c06925892",
   "metadata": {},
   "source": [
    "##  Installing qiskit on the University machines\n",
    "These instructions are modified from the material developed by Vincent Drach\n",
    "\n",
    "* Start the anconda prompt\n",
    "* conda create --name qiskit\n",
    "* conda activate qiskit\n",
    "* conda install numpy matplotlib spyder-kernels\n",
    "* pip install qiskit\n",
    "* pip install qiskit[visualization]\n",
    "\n",
    "In Spyder Open Tools -> Preferences\n",
    "select \"Use the following python interpreter\" and select the path of your installation\n",
    "\n",
    "C:/Users/vdrach/.conda/envs/qiskit/python.exe\n",
    "\n",
    "To check the enviroment, restart the kernel in the console\n",
    "\n"
   ]
  },
  {
   "cell_type": "markdown",
   "id": "9c15488a-d79f-48dd-a61a-dd1f212a7d86",
   "metadata": {},
   "source": [
    "## One qubit example circuit\n",
    "https://qiskit.org/documentation/tutorials/circuits/3_summary_of_quantum_operations.html\n",
    "\n",
    "Run the example code below.\n"
   ]
  },
  {
   "cell_type": "code",
   "execution_count": 2,
   "id": "26aa5cfa-7399-4af5-8c91-ddb4a8cf9d2e",
   "metadata": {},
   "outputs": [
    {
     "name": "stdout",
     "output_type": "stream",
     "text": [
      "\n",
      "Total number of measurements =  512\n",
      "State = |1> measurements  512\n"
     ]
    }
   ],
   "source": [
    "import numpy as np\n",
    "from qiskit import QuantumCircuit, transpile\n",
    "from qiskit.providers.aer import QasmSimulator\n",
    "from qiskit.visualization import plot_histogram\n",
    "from qiskit import QuantumCircuit, ClassicalRegister, QuantumRegister, transpile\n",
    "\n",
    "# Use Aer's qasm_simulator\n",
    "simulator = QasmSimulator()\n",
    "\n",
    "circuit = QuantumCircuit(1,1)\n",
    "\n",
    "# Add a y gate on qubit 0\n",
    "circuit.y(0)\n",
    "\n",
    "# Map the quantum measurement to the classical bits\n",
    "circuit.measure(0,0) \n",
    "# compile the circuit down to low-level QASM instructions\n",
    "# supported by the backend (not needed for simple circuits)\n",
    "compiled_circuit = transpile(circuit, simulator)\n",
    "\n",
    "# Execute the circuit on the qasm simulator\n",
    "numb_shots = 512\n",
    "job = simulator.run(compiled_circuit, shots=numb_shots)\n",
    "\n",
    "# Grab results from the job\n",
    "result = job.result()\n",
    "\n",
    "# Returns counts\n",
    "counts = result.get_counts(compiled_circuit)\n",
    "print(\"\\nTotal number of measurements = \", numb_shots )\n",
    "for key, value in counts.items():\n",
    "    print(\"State = |\" + key+\"> measurements \" , value)\n"
   ]
  },
  {
   "cell_type": "code",
   "execution_count": 3,
   "id": "f1c8a195-181e-4beb-bd0e-344ab8c057dd",
   "metadata": {},
   "outputs": [
    {
     "data": {
      "text/html": [
       "<pre style=\"word-wrap: normal;white-space: pre;background: #fff0;line-height: 1.1;font-family: &quot;Courier New&quot;,Courier,monospace\">     ┌───┐┌─┐\n",
       "  q: ┤ Y ├┤M├\n",
       "     └───┘└╥┘\n",
       "c: 1/══════╩═\n",
       "           0 </pre>"
      ],
      "text/plain": [
       "     ┌───┐┌─┐\n",
       "  q: ┤ Y ├┤M├\n",
       "     └───┘└╥┘\n",
       "c: 1/══════╩═\n",
       "           0 "
      ]
     },
     "execution_count": 3,
     "metadata": {},
     "output_type": "execute_result"
    }
   ],
   "source": [
    "# Draw the circuit\n",
    "circuit.draw()"
   ]
  },
  {
   "cell_type": "code",
   "execution_count": 4,
   "id": "d08805b3-a070-4ce4-b5f3-3bec8a3bed1a",
   "metadata": {},
   "outputs": [
    {
     "data": {
      "image/png": "[encoded data removed]",
      "text/plain": [
       "<Figure size 269.064x200.667 with 1 Axes>"
      ]
     },
     "execution_count": 4,
     "metadata": {},
     "output_type": "execute_result"
    }
   ],
   "source": [
    "circuit.draw('mpl')"
   ]
  },
  {
   "cell_type": "markdown",
   "id": "6ec75dd5-f183-49ab-a18f-c5b2ee5be435",
   "metadata": {},
   "source": [
    "### Question 1 on the above one qubit circuit\n",
    "* Assume an input state of $\\mid 0>$ and apply the rules of gates to find the expected output state\n",
    "* Does your theoretical result agree with the output from the circuit simulated above.\n",
    "* Modify your code so that the measurements are printed as a histogram\n",
    "* https://qiskit.org/documentation/stubs/qiskit.visualization.plot_histogram.html\n",
    "\n",
    "###  Question 2 on the one qubit circuit\n",
    "\n",
    " <img src=\"https://github.com/cmcneile/Quantum_Computing_lab_2023/blob/main/2circuit.png?raw=true\" alt=\"1qubit circuit\"> \n",
    "\n",
    "* Modify the code above to implement the above quantum circuit (that was used in lectures)\n",
    "* Does the measurements correspond to theoretical result for the input $\\mid 0 \\rangle$\n",
    "* Modify the code so that the input is the state $\\mid 1 \\rangle$\n",
    "* Run the circuit for 512, 1024, 2048 shots. Do you notice any patterns?\n",
    "* Modify the code to produce a state vector (eg. the output $\\frac{1}{\\sqrt{2}} \\mid 0 \\rangle + \\frac{1}{\\sqrt{2}} \\mid 1 \\rangle$\n",
    "* See this example code for statevector code  https://quantumcomputing.stackexchange.com/questions/13769/how-to-get-state-vector-from-qasmsimulator-in-qiskit"
   ]
  },
  {
   "cell_type": "code",
   "execution_count": null,
   "id": "d1ed2792-25ee-472c-88c5-2f839ff87151",
   "metadata": {},
   "outputs": [],
   "source": [
    "\n"
   ]
  },
  {
   "cell_type": "markdown",
   "id": "a420e6c5-ba06-4cef-87ce-519f9e182fc9",
   "metadata": {},
   "source": [
    "## Two qubit example circuit"
   ]
  },
  {
   "cell_type": "markdown",
   "id": "06411de1-b0f2-4963-b7cf-c15c7eb6c32f",
   "metadata": {},
   "source": [
    "This example was taken from \n",
    "https://qiskit.org/documentation/stable/0.35/intro_tutorial1.html"
   ]
  },
  {
   "cell_type": "code",
   "execution_count": 5,
   "id": "ca283adf-3415-4bd9-b1fc-1bbb0a04047a",
   "metadata": {},
   "outputs": [
    {
     "name": "stdout",
     "output_type": "stream",
     "text": [
      "\n",
      "Total count for 00 and 11 are: {'11': 285, '00': 227}\n",
      "\n",
      "Total number of measurements =  512\n",
      "State = |11> measurements  285\n",
      "State = |00> measurements  227\n"
     ]
    }
   ],
   "source": [
    "import numpy as np\n",
    "from qiskit import QuantumCircuit, transpile\n",
    "from qiskit.providers.aer import QasmSimulator\n",
    "from qiskit.visualization import plot_histogram\n",
    "\n",
    "# Use Aer's qasm_simulator\n",
    "simulator = QasmSimulator()\n",
    "\n",
    "# Create a Quantum Circuit acting on the q register\n",
    "circuit = QuantumCircuit(2, 2)\n",
    "\n",
    "# Add a H gate on qubit 0\n",
    "circuit.h(0)\n",
    "\n",
    "# Add a CX (CNOT) gate on control qubit 0 and target qubit 1\n",
    "circuit.cx(0, 1)\n",
    "\n",
    "# Map the quantum measurement to the classical bits\n",
    "circuit.measure([0,1], [0,1])\n",
    "\n",
    "# compile the circuit down to low-level QASM instructions\n",
    "# supported by the backend (not needed for simple circuits)\n",
    "compiled_circuit = transpile(circuit, simulator)\n",
    "\n",
    "# Execute the circuit on the qasm simulator\n",
    "numb_shots = 512\n",
    "job = simulator.run(compiled_circuit, shots=numb_shots)\n",
    "\n",
    "# Grab results from the job\n",
    "result = job.result()\n",
    "\n",
    "# Returns counts\n",
    "counts = result.get_counts(compiled_circuit)\n",
    "print(\"\\nTotal count for 00 and 11 are:\",counts)\n",
    "print(\"\\nTotal number of measurements = \", numb_shots )\n",
    "for key, value in counts.items():\n",
    "    print(\"State = |\" + key+\"> measurements \" , value)\n",
    "\n"
   ]
  },
  {
   "cell_type": "code",
   "execution_count": 6,
   "id": "531317f3-65d5-4b87-b242-1582acebc374",
   "metadata": {},
   "outputs": [
    {
     "data": {
      "text/html": [
       "<pre style=\"word-wrap: normal;white-space: pre;background: #fff0;line-height: 1.1;font-family: &quot;Courier New&quot;,Courier,monospace\">     ┌───┐     ┌─┐   \n",
       "q_0: ┤ H ├──■──┤M├───\n",
       "     └───┘┌─┴─┐└╥┘┌─┐\n",
       "q_1: ─────┤ X ├─╫─┤M├\n",
       "          └───┘ ║ └╥┘\n",
       "c: 2/═══════════╩══╩═\n",
       "                0  1 </pre>"
      ],
      "text/plain": [
       "     ┌───┐     ┌─┐   \n",
       "q_0: ┤ H ├──■──┤M├───\n",
       "     └───┘┌─┴─┐└╥┘┌─┐\n",
       "q_1: ─────┤ X ├─╫─┤M├\n",
       "          └───┘ ║ └╥┘\n",
       "c: 2/═══════════╩══╩═\n",
       "                0  1 "
      ]
     },
     "execution_count": 6,
     "metadata": {},
     "output_type": "execute_result"
    }
   ],
   "source": [
    "\n",
    "# Draw the circuit\n",
    "circuit.draw()"
   ]
  },
  {
   "cell_type": "markdown",
   "id": "ec07a0da-a916-413c-87da-899e93c8dcea",
   "metadata": {},
   "source": [
    "## Question 3 on the two-qubit circuit\n",
    "\n",
    "* Assume an input state of $\\mid 00 >$ apply the above quantum circuit and find the output state.\n",
    "* Does your result agree with the output from the circuit \n",
    "* Run the circuit for 512, 1024, 2048  shots. Do you notice any patterns?"
   ]
  },
  {
   "cell_type": "markdown",
   "id": "a9715e56-e46a-44d0-abce-fb1d1e5d7f25",
   "metadata": {},
   "source": [
    "## Question 4\n",
    "\n",
    " <img src=\"https://github.com/cmcneile/Quantum_Computing_lab_2023/blob/main/InitCircuit.png?raw=true\" alt=\"2 qubit circuit\"> \n",
    " \n",
    " * Modify the above code to implement this circuit that was shown in lectures (and the diagram above)"
   ]
  },
  {
   "cell_type": "markdown",
   "id": "11b49fbb-18cb-47c6-8306-ac34a9e1c85e",
   "metadata": {},
   "source": [
    "## Question 5 (superdense coding)\n",
    "\n",
    "* In the second lecture of the module we studied superdense coding where two classical bits are transformed by sending one qubit from Alice to Bob.\n",
    "* There is a qiskit example:\n",
    "* https://learning.quantum-computing.ibm.com/course/basics-of-quantum-information/entanglement-in-action#superdense-coding\n"
   ]
  },
  {
   "cell_type": "code",
   "execution_count": 7,
   "id": "940ffd66-7f94-4408-9d5c-988828341b59",
   "metadata": {},
   "outputs": [],
   "source": [
    "# Required imports\n",
    "\n",
    "from qiskit import QuantumCircuit, QuantumRegister, ClassicalRegister\n",
    "from qiskit_aer.primitives import Sampler\n",
    "from qiskit_aer import AerSimulator\n",
    "from qiskit.visualization import plot_histogram"
   ]
  },
  {
   "cell_type": "markdown",
   "id": "0ccbc147-8dba-4669-99ea-f1ed677779b9",
   "metadata": {},
   "source": [
    "The numbers below are the classical bits to transmit"
   ]
  },
  {
   "cell_type": "code",
   "execution_count": 20,
   "id": "35f671a1-90a7-4afa-8af6-65fe884992ef",
   "metadata": {},
   "outputs": [],
   "source": [
    "c = \"1\"\n",
    "d = \"0\""
   ]
  },
  {
   "cell_type": "code",
   "execution_count": 21,
   "id": "7f74ef5c-1ba7-457b-bebd-7c7d7f0482b0",
   "metadata": {},
   "outputs": [
    {
     "data": {
      "text/html": [
       "<pre style=\"word-wrap: normal;white-space: pre;background: #fff0;line-height: 1.1;font-family: &quot;Courier New&quot;,Courier,monospace\">        ┌───┐      ░ ┌───┐ ░      ┌───┐ ░ ┌─┐   \n",
       "   q_0: ┤ H ├──■───░─┤ X ├─░───■──┤ H ├─░─┤M├───\n",
       "        └───┘┌─┴─┐ ░ └───┘ ░ ┌─┴─┐└───┘ ░ └╥┘┌─┐\n",
       "   q_1: ─────┤ X ├─░───────░─┤ X ├──────░──╫─┤M├\n",
       "             └───┘ ░       ░ └───┘      ░  ║ └╥┘\n",
       "meas: 2/═══════════════════════════════════╩══╩═\n",
       "                                           0  1 </pre>"
      ],
      "text/plain": [
       "        ┌───┐      ░ ┌───┐ ░      ┌───┐ ░ ┌─┐   \n",
       "   q_0: ┤ H ├──■───░─┤ X ├─░───■──┤ H ├─░─┤M├───\n",
       "        └───┘┌─┴─┐ ░ └───┘ ░ ┌─┴─┐└───┘ ░ └╥┘┌─┐\n",
       "   q_1: ─────┤ X ├─░───────░─┤ X ├──────░──╫─┤M├\n",
       "             └───┘ ░       ░ └───┘      ░  ║ └╥┘\n",
       "meas: 2/═══════════════════════════════════╩══╩═\n",
       "                                           0  1 "
      ]
     },
     "metadata": {},
     "output_type": "display_data"
    }
   ],
   "source": [
    "protocol = QuantumCircuit(2)\n",
    "\n",
    "# Prepare ebit used for superdense coding\n",
    "protocol.h(0)\n",
    "protocol.cx(0, 1)\n",
    "protocol.barrier()\n",
    "\n",
    "# Alice's operations\n",
    "if d == \"1\":\n",
    "    protocol.z(0)\n",
    "if c == \"1\":\n",
    "    protocol.x(0)\n",
    "protocol.barrier()\n",
    "\n",
    "# Bob's actions\n",
    "protocol.cx(0, 1)\n",
    "protocol.h(0)\n",
    "protocol.measure_all()\n",
    "\n",
    "display(protocol.draw())"
   ]
  },
  {
   "cell_type": "code",
   "execution_count": 22,
   "id": "edb23eca-530c-4e48-b6df-211eb333d4d6",
   "metadata": {},
   "outputs": [
    {
     "name": "stdout",
     "output_type": "stream",
     "text": [
      "Measured 10 with frequency 1.0\n"
     ]
    },
    {
     "data": {
      "image/png": "[encoded data removed]",
      "text/plain": [
       "<Figure size 700x500 with 1 Axes>"
      ]
     },
     "metadata": {},
     "output_type": "display_data"
    }
   ],
   "source": [
    "result = Sampler().run(protocol).result()\n",
    "statistics = result.quasi_dists[0].binary_probabilities()\n",
    "\n",
    "for outcome, frequency in statistics.items():\n",
    "    print(f\"Measured {outcome} with frequency {frequency}\")\n",
    "\n",
    "display(plot_histogram(statistics))"
   ]
  },
  {
   "cell_type": "markdown",
   "id": "439ff872-6a92-4cd1-9b8f-c9779c3c3e50",
   "metadata": {},
   "source": [
    "* Run the qiskit code above for the cases: 00, 01, 10, 11\n",
    "* Check that the circuit works. If it does not work, modify the code\n",
    "\n"
   ]
  },
  {
   "cell_type": "code",
   "execution_count": null,
   "id": "70f14a38-7f76-4498-b054-e930caf7cf0b",
   "metadata": {},
   "outputs": [],
   "source": []
  },
  {
   "cell_type": "code",
   "execution_count": null,
   "id": "d08449dd-ed09-4684-a86e-cc343e6457ab",
   "metadata": {},
   "outputs": [],
   "source": []
  }
 ],
 "metadata": {
  "kernelspec": {
   "display_name": "Python 3 (ipykernel)",
   "language": "python",
   "name": "python3"
  },
  "language_info": {
   "codemirror_mode": {
    "name": "ipython",
    "version": 3
   },
   "file_extension": ".py",
   "mimetype": "text/x-python",
   "name": "python",
   "nbconvert_exporter": "python",
   "pygments_lexer": "ipython3",
   "version": "3.9.17"
  }
 },
 "nbformat": 4,
 "nbformat_minor": 5
}
