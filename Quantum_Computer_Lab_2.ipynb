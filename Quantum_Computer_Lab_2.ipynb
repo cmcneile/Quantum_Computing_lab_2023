{
 "cells": [
  {
   "cell_type": "markdown",
   "id": "233aa3ed-825c-4ba7-8d18-76587107c5f9",
   "metadata": {},
   "source": [
    "# Quantum Computer lab 2\n",
    "\n",
    "These lab exercises are **NOT** part of the assesment of the module, but they should be useful training for the coursework."
   ]
  },
  {
   "cell_type": "markdown",
   "id": "1e7c3a5d-3020-4f0e-ba62-68079ec4d0a8",
   "metadata": {},
   "source": [
    "* This notebook introduces some of the basic quantum circuit functionality in the qiskit module\n",
    "* Please run the code to make sure it works, then try the questions.\n",
    "\n",
    "There is documentation about qiskit at https://qiskit.org/ and https://learning.quantum-computing.ibm.com/"
   ]
  },
  {
   "cell_type": "markdown",
   "id": "f11b08b6-7848-4409-8ce9-6dc0b1691565",
   "metadata": {},
   "source": [
    "##  Goals of the lab\n",
    "* Install and run the qiskit modules\n",
    "* Simulate quantum circuits using qiskit\n",
    "* Use qiskit to produce state vectors from quantum circuits\n",
    "* Navigate the qiskit documentation to solve problems\n",
    "\n",
    "In later labs we will investigate introducing additional errors"
   ]
  },
  {
   "cell_type": "markdown",
   "id": "d2cef19d-c573-4fe0-80a2-94019bcdd167",
   "metadata": {},
   "source": [
    "## Installing qiskit\n",
    "\n",
    "There is information on installing qiskit at:  https://qiskit.org/documentation/getting_started.html\n",
    "I really recommend using a virtual enviroment to install qiskit\n",
    "\n",
    "* You can run on IBM's simulator using  https://quantum-computing.ibm.com/\n"
   ]
  },
  {
   "cell_type": "markdown",
   "id": "b8e63879-a6e0-49f5-a1c9-595c06925892",
   "metadata": {},
   "source": [
    "##  Installing qiskit on the University machines\n",
    "These instructions are modified from the material developed by Vincent Drach. Unfortunately, you will have to do this everytime you start a new session.\n",
    "\n",
    "* Start the anconda prompt\n",
    "* conda create --name qiskit\n",
    "* conda activate qiskit\n",
    "* conda install numpy matplotlib spyder-kernels\n",
    "* pip install qiskit\n",
    "* pip install qiskit-aer\n",
    "* pip install qiskit[visualization]\n",
    "\n",
    "In Spyder Open Tools -> Preferences\n",
    "select \"Use the following python interpreter\" and select the path of your installation\n",
    "\n",
    "C:/Users/vdrach/.conda/envs/qiskit/python.exe\n",
    "\n",
    "To check the enviroment, restart the kernel in the console\n",
    "\n"
   ]
  },
  {
   "cell_type": "markdown",
   "id": "439ff872-6a92-4cd1-9b8f-c9779c3c3e50",
   "metadata": {},
   "source": [
    "* Run the qiskit code above for the cases: 00, 01, 10, 11\n",
    "* Check that the circuit works. If it does not work, modify the code\n",
    "\n"
   ]
  },
  {
   "cell_type": "code",
   "execution_count": null,
   "id": "70f14a38-7f76-4498-b054-e930caf7cf0b",
   "metadata": {},
   "outputs": [],
   "source": []
  },
  {
   "cell_type": "markdown",
   "id": "a7932d62-8f0e-4cbe-9ec5-df933ef4424d",
   "metadata": {},
   "source": [
    "## Quantum Fourier Transform\n",
    "\n",
    "Based on the material from https://quantumcomputinguk.org/tutorials/quantum-fourier-transform-in-qiskit\n"
   ]
  },
  {
   "cell_type": "code",
   "execution_count": null,
   "id": "44c8eb9d-0589-48d6-a2fa-0bdb584260ff",
   "metadata": {},
   "outputs": [],
   "source": []
  },
  {
   "cell_type": "markdown",
   "id": "141527fe-1418-4018-82cd-9493e1b5b203",
   "metadata": {},
   "source": [
    "##  Question Quantum Phase Estimation\n",
    "Based on https://github.com/qiskit-community/qiskit-textbook/blob/main/content/ch-algorithms/quantum-phase-estimation.ipynb\n",
    "\n",
    "We want to estimate the phase \n",
    "\n",
    "$$\n",
    "U \\mid \\psi \\rangle = e^{2 i \\pi \\phi } \\mid \\psi \\rangle\n",
    "$$\n",
    "\n",
    "We will use the two by two matrix below that depends on the parameter $\\lambda$\n",
    "$$\n",
    "\\begin{split}p(\\lambda) =\n",
    "\\begin{pmatrix}\n",
    "1 & 0 \\\\\n",
    "0 & e^{i \\lambda}\n",
    "\\end{pmatrix},\\end{split}\n",
    "$$\n",
    "\n",
    "**Question** what are the eigenvalues and eigenvectors of $p(\\lambda)$  ?\n",
    "\n",
    "A good source of documentation on the different quantum gates in qiskit is https://qiskit.org/documentation/tutorials/circuits/3_summary_of_quantum_operations.html\n",
    "\n",
    "\n",
    "In the circuit the controled P gate is used\n",
    "\n",
    "$$\n",
    "\\begin{split}C_{p}(\\lambda) =\n",
    "\\begin{pmatrix}\n",
    "1 & 0 & 0 & 0\\\\\n",
    "0 & 1 & 0 & 0\\\\\n",
    "0 & 0 & 1 & 0\\\\\n",
    "0 & 0 & 0 & e^{i\\lambda}\n",
    "\\end{pmatrix}\\end{split}\n",
    "$$\n",
    "\n"
   ]
  },
  {
   "cell_type": "code",
   "execution_count": 57,
   "id": "53d4db4a-f600-45eb-9944-6af3bc8766f4",
   "metadata": {},
   "outputs": [],
   "source": [
    "#initialization\n",
    "import matplotlib.pyplot as plt\n",
    "import numpy as np\n",
    "import math\n",
    "from math import pi\n",
    "\n",
    "# importing Qiskit\n",
    "from qiskit import IBMQ, Aer, transpile, assemble\n",
    "from qiskit import QuantumCircuit, ClassicalRegister, QuantumRegister\n",
    "\n",
    "# import basic plot tools\n",
    "from qiskit.visualization import plot_histogram"
   ]
  },
  {
   "cell_type": "markdown",
   "id": "6013c55c-199a-420f-a9ab-2a421091fd32",
   "metadata": {},
   "source": [
    "## First look at the matricies\n",
    "\n",
    "There is documentation about the different gates at: \n",
    "https://qiskit.org/documentation/tutorials/circuits/3_summary_of_quantum_operations.html\n"
   ]
  },
  {
   "cell_type": "code",
   "execution_count": 58,
   "id": "6f6a68fc-5d32-4802-bf6a-eda8bc44c307",
   "metadata": {},
   "outputs": [
    {
     "data": {
      "image/png": "[encoded data removed]",
      "text/plain": [
       "<Figure size 221.914x117.056 with 1 Axes>"
      ]
     },
     "execution_count": 58,
     "metadata": {},
     "output_type": "execute_result"
    }
   ],
   "source": [
    "## This is the controlled P matrix used in the circuit\n",
    "q1 = QuantumRegister(1)\n",
    "qc1 = QuantumCircuit(q1)\n",
    "qc1.p(pi/2,q1[0])\n",
    "qc1.draw(\"mpl\")"
   ]
  },
  {
   "cell_type": "code",
   "execution_count": 59,
   "id": "c0380827-e5fd-4820-90d2-4df9fa92f9c4",
   "metadata": {},
   "outputs": [
    {
     "data": {
      "image/png": "[encoded data removed]",
      "text/plain": [
       "<Figure size 323.958x200.667 with 1 Axes>"
      ]
     },
     "execution_count": 59,
     "metadata": {},
     "output_type": "execute_result"
    }
   ],
   "source": [
    "## This is the controlled P matrix used in the circuit\n",
    "q = QuantumRegister(2)\n",
    "qc = QuantumCircuit(q)\n",
    "qc.cp(pi/2,q[0], q[1])\n",
    "qc.draw(\"mpl\")"
   ]
  },
  {
   "cell_type": "markdown",
   "id": "2cb55db1-85b7-44fe-9ad6-2cb14eb7a733",
   "metadata": {},
   "source": [
    "### Function to do inverse quantum fourier transform"
   ]
  },
  {
   "cell_type": "code",
   "execution_count": 60,
   "id": "1411dba8-c724-49ce-b6dd-fc5c6343bae3",
   "metadata": {},
   "outputs": [],
   "source": [
    "def qft_dagger(qc, n):\n",
    "    \"\"\"n-qubit QFTdagger the first n qubits in circ\"\"\"\n",
    "    # Don't forget the Swaps!\n",
    "    for qubit in range(n//2):\n",
    "        qc.swap(qubit, n-qubit-1)\n",
    "    for j in range(n):\n",
    "        for m in range(j):\n",
    "            qc.cp(-math.pi/float(2**(j-m)), m, j)\n",
    "        qc.h(j)\n"
   ]
  },
  {
   "cell_type": "code",
   "execution_count": 61,
   "id": "f71de75c-9e53-4574-9e33-3e6e68b7931d",
   "metadata": {},
   "outputs": [],
   "source": [
    "#### Code to do the quantum phase estimation"
   ]
  },
  {
   "cell_type": "code",
   "execution_count": 62,
   "id": "377d952e-6f1c-4a59-a0aa-9ce89e200a28",
   "metadata": {},
   "outputs": [
    {
     "data": {
      "image/png": "[encoded data removed]",
      "text/plain": [
       "<Figure size 2210.55x953.167 with 1 Axes>"
      ]
     },
     "execution_count": 62,
     "metadata": {},
     "output_type": "execute_result"
    }
   ],
   "source": [
    "# Create and set up circuit\n",
    "qpe2 = QuantumCircuit(4, 3)\n",
    "\n",
    "# Apply H-Gates to counting qubits:\n",
    "for qubit in range(3):\n",
    "    qpe2.h(qubit)\n",
    "\n",
    "# Prepare our eigenstate |psi>:\n",
    "# QUESTION what does this line do. Why is it required?\n",
    "qpe2.x(3)\n",
    "\n",
    "# Do the controlled-U operations:\n",
    "#angle = 2*math.pi/3\n",
    "#angle = 2*math.pi/2\n",
    "angle = 2*math.pi/4\n",
    "#angle = 2*math.pi/8\n",
    "\n",
    "repetitions = 1\n",
    "for counting_qubit in range(3):\n",
    "    for i in range(repetitions):\n",
    "        qpe2.cp(angle, counting_qubit, 3);\n",
    "    repetitions *= 2\n",
    "\n",
    "# Do the inverse QFT:\n",
    "qft_dagger(qpe2, 3)\n",
    "\n",
    "# Measure of course!\n",
    "for n in range(3):\n",
    "    qpe2.measure(n,n)\n",
    "\n",
    "qpe2.draw(\"mpl\")\n"
   ]
  },
  {
   "cell_type": "code",
   "execution_count": null,
   "id": "6fbc50de-89a7-4df8-ba22-67fbcd7918bb",
   "metadata": {},
   "outputs": [],
   "source": []
  },
  {
   "cell_type": "code",
   "execution_count": 63,
   "id": "f841c0ac-7431-4295-936e-05dbfba1cb77",
   "metadata": {},
   "outputs": [
    {
     "name": "stderr",
     "output_type": "stream",
     "text": [
      "/tmp/ipykernel_491748/2280759256.py:5: DeprecationWarning: Using a qobj for run() is deprecated as of qiskit-aer 0.9.0 and will be removed no sooner than 3 months from that release date. Transpiled circuits should now be passed directly using `backend.run(circuits, **run_options).\n",
      "  results = aer_sim.run(qobj).result()\n"
     ]
    },
    {
     "data": {
      "image/png": "[encoded data removed]",
      "text/plain": [
       "<Figure size 700x500 with 1 Axes>"
      ]
     },
     "execution_count": 63,
     "metadata": {},
     "output_type": "execute_result"
    }
   ],
   "source": [
    "aer_sim = Aer.get_backend('aer_simulator')\n",
    "shots = 2048\n",
    "t_qpe2 = transpile(qpe2, aer_sim)\n",
    "qobj = assemble(t_qpe2, shots=shots)\n",
    "results = aer_sim.run(qobj).result()\n",
    "answer = results.get_counts()\n",
    "\n",
    "plot_histogram(answer)"
   ]
  },
  {
   "cell_type": "markdown",
   "id": "28b531f3-1654-48ce-8de9-66c19d70bd9f",
   "metadata": {},
   "source": [
    "The result for the phase is in the form of binary decimal notation  \n",
    "$ x = 0. \\phi_1 \\phi_2 \\phi_3 $   \n",
    "\n",
    "where $\\phi_j$ is 1 or  0\n",
    "\n",
    "$x = \\phi_1 / 2 + \\phi_2 / 4 + \\phi_3 / 8 $ \n"
   ]
  },
  {
   "cell_type": "code",
   "execution_count": 64,
   "id": "955cf1a7-51bf-448f-9fad-c0824d26768e",
   "metadata": {},
   "outputs": [
    {
     "data": {
      "image/png": "[encoded data removed]",
      "text/plain": [
       "<Figure size 700x500 with 1 Axes>"
      ]
     },
     "execution_count": 64,
     "metadata": {},
     "output_type": "execute_result"
    }
   ],
   "source": [
    "plot_histogram(answer)"
   ]
  },
  {
   "cell_type": "markdown",
   "id": "2e7ba8a6-bd8d-49b9-a43d-8d01377421e4",
   "metadata": {},
   "source": [
    "### Questions\n",
    "\n",
    "The goal of this question is to study the quantum phase algorithm with a simple matrix with known eigenvalues\n",
    "and eigenvectors. When you get a numerical result back, you should compare it with the known eigenvalues.\n",
    "\n",
    "Run the above circuit for angle = $2 \\pi / 2$ , $2 \\pi / 4$  , $2 \\pi / 8$.\n",
    "Can you understand the result.\n",
    "\n",
    "Run the code for angle = $2 \\pi / 3$. What do you notice?\n",
    "\n",
    "Comment out the line qpe2.x(3).  Do you agree with the result?\n",
    "\n",
    "Change the line qpe2.x(3) to qpe2.h(3). Run the code for angle = $2 \\pi / 2$ , $2 \\pi / 4$  , $2 \\pi / 8$, $2 \\pi / 3$.\n",
    "What do you notice\n"
   ]
  },
  {
   "cell_type": "markdown",
   "id": "2eb16586-15a6-4acf-8669-33d4ebe14525",
   "metadata": {},
   "source": [
    "## Question\n",
    "\n",
    "On the web page https://github.com/qiskit-community/qiskit-textbook/blob/main/content/ch-algorithms/quantum-phase-estimation.ipynb\n",
    "there is an example of a code that uses 6 counting bits. By studying this code write a function that does quantum phase estimation using\n",
    "an input number of counting bits. Also make the angle an argument of the function.\n",
    "\n",
    "Study the accuracy of the result as a function of counting bits for the angle $2\\pi/3$. Using a large number of counting bits may require a\n",
    "lot of memory so be careful. \n",
    "\n"
   ]
  },
  {
   "cell_type": "code",
   "execution_count": 65,
   "id": "f7e394ae-f90d-42b5-bfdf-aa4dfb1dc2a9",
   "metadata": {},
   "outputs": [],
   "source": [
    "def find_quantum_phase(no_count_bits, angle) :\n",
    "     print(\"Number of counting bits \" , no_count_bits)\n",
    "     print(\"Input angle = \" , angle )\n",
    "    "
   ]
  },
  {
   "cell_type": "markdown",
   "id": "6de16f2f-0909-4cb7-bc05-b9e7976c7d97",
   "metadata": {},
   "source": [
    "## Bonus Question\n",
    "\n",
    "This is a mini-project type question. The test matrix we used was a simple diagonal matrix. It would be interesting to modify the code to use a non-diagonal matrix, such as a U-gate.\n",
    "\n",
    "\\begin{split}U(\\theta, \\phi, \\lambda) =\n",
    "    \\begin{pmatrix}\n",
    "        \\cos\\left(\\frac{\\theta}{2}\\right)          & -e^{i\\lambda}\\sin\\left(\\frac{\\theta}{2}\\right) \\\\\n",
    "        e^{i\\phi}\\sin\\left(\\frac{\\theta}{2}\\right) & e^{i(\\phi+\\lambda)}\\cos\\left(\\frac{\\theta}{2}\\right)\n",
    "    \\end{pmatrix}\\end{split}\n",
    "\n",
    "The code below creates the matrix and computes the eigenvalues with standard python. This can be used to compare the results\n",
    "from the phase estimation.\n"
   ]
  },
  {
   "cell_type": "code",
   "execution_count": 66,
   "id": "cada59f4-9628-4f30-b2f2-b71a83d49161",
   "metadata": {},
   "outputs": [
    {
     "data": {
      "text/html": [
       "<pre style=\"word-wrap: normal;white-space: pre;background: #fff0;line-height: 1.1;font-family: &quot;Courier New&quot;,Courier,monospace\">     ┌────────────────┐\n",
       "q57: ┤ U(π/2,π/4,π/8) ├\n",
       "     └────────────────┘</pre>"
      ],
      "text/plain": [
       "     ┌────────────────┐\n",
       "q57: ┤ U(π/2,π/4,π/8) ├\n",
       "     └────────────────┘"
      ]
     },
     "execution_count": 66,
     "metadata": {},
     "output_type": "execute_result"
    }
   ],
   "source": [
    "q = QuantumRegister(1)\n",
    "qU = QuantumCircuit(q)\n",
    "qU.u(pi/2,pi/4,pi/8,q)\n",
    "qU.draw()"
   ]
  },
  {
   "cell_type": "code",
   "execution_count": 67,
   "id": "278d21b1-fe05-4a4c-9a9a-bee7670bd132",
   "metadata": {},
   "outputs": [
    {
     "data": {
      "text/plain": [
       "array([[ 0.707+0.j   , -0.653-0.271j],\n",
       "       [ 0.5  +0.5j  ,  0.271+0.653j]])"
      ]
     },
     "execution_count": 67,
     "metadata": {},
     "output_type": "execute_result"
    }
   ],
   "source": [
    "from qiskit import BasicAer\n",
    "backend = BasicAer.get_backend('unitary_simulator')\n",
    "job = backend.run(transpile(qU, backend))\n",
    "matrix = job.result().get_unitary(qU, decimals=3)\n",
    "matrix"
   ]
  },
  {
   "cell_type": "code",
   "execution_count": 55,
   "id": "de5b2b54-aa36-4301-b768-d90bba16db4c",
   "metadata": {},
   "outputs": [],
   "source": [
    "from numpy import linalg as LA"
   ]
  },
  {
   "cell_type": "code",
   "execution_count": 56,
   "id": "511c7527-671a-468f-8ad6-7beec2bc641d",
   "metadata": {},
   "outputs": [
    {
     "name": "stdout",
     "output_type": "stream",
     "text": [
      "[0.93842902-0.34585756j 0.03957098+0.99885756j]\n"
     ]
    }
   ],
   "source": [
    "eigenvalues, eigenvectors = LA.eig(matrix)\n",
    "print(eigenvalues)"
   ]
  },
  {
   "cell_type": "code",
   "execution_count": null,
   "id": "cb7d7b5c-7e7c-4d67-8740-f382bc6b100b",
   "metadata": {},
   "outputs": [],
   "source": []
  }
 ],
 "metadata": {
  "kernelspec": {
   "display_name": "Python 3 (ipykernel)",
   "language": "python",
   "name": "python3"
  },
  "language_info": {
   "codemirror_mode": {
    "name": "ipython",
    "version": 3
   },
   "file_extension": ".py",
   "mimetype": "text/x-python",
   "name": "python",
   "nbconvert_exporter": "python",
   "pygments_lexer": "ipython3",
   "version": "3.9.17"
  }
 },
 "nbformat": 4,
 "nbformat_minor": 5
}
