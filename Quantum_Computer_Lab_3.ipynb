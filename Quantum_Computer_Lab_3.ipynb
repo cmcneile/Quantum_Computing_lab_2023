{
 "cells": [
  {
   "cell_type": "markdown",
   "id": "de2829cd-4b6a-433f-afaf-77b32389b911",
   "metadata": {},
   "source": [
    "# Shor play\n",
    "\n",
    "https://qiskit.org/learn/course/quantum-computing-labs\n",
    "\n",
    "https://learn.qiskit.org/course/ch-labs/lab-7-scalable-shors-algorithm\n",
    "\n",
    "pip install qiskit-aqua\n",
    "\n",
    "pip install qiskit-utils\n"
   ]
  },
  {
   "cell_type": "code",
   "execution_count": 1,
   "id": "8be532ea-a240-4d26-8b32-96a4385e81fc",
   "metadata": {},
   "outputs": [],
   "source": [
    "from qiskit import *\n",
    "import numpy as np\n",
    "from qiskit.visualization import plot_histogram\n",
    "import qiskit.tools.jupyter \n",
    "import matplotlib.pyplot as plt"
   ]
  },
  {
   "cell_type": "code",
   "execution_count": 2,
   "id": "81bfd272-da3f-4467-b459-38f4c3a141dc",
   "metadata": {},
   "outputs": [],
   "source": []
  },
  {
   "cell_type": "code",
   "execution_count": 4,
   "id": "6f3e837f-0645-4263-9919-11b7fcaafffd",
   "metadata": {},
   "outputs": [
    {
     "name": "stdout",
     "output_type": "stream",
     "text": [
      "m =  4\n"
     ]
    }
   ],
   "source": [
    "## Create 7mod15 gate\n",
    "N = 15\n",
    "m = int(np.ceil(np.log2(N)))\n",
    "print(\"m = \" , m )\n",
    "U_qc = QuantumCircuit(m)\n",
    "U_qc.x(range(m))\n",
    "U_qc.swap(1, 2)\n",
    "U_qc.swap(2, 3)\n",
    "U_qc.swap(0, 3)\n",
    "\n",
    "U = U_qc.to_gate()\n",
    "U.name ='{}Mod{}'.format(7, N)"
   ]
  },
  {
   "cell_type": "markdown",
   "id": "4b22c080",
   "metadata": {},
   "source": [
    "##  Canned example of Shor's algorithm\n",
    "\n",
    "https://qiskit.org/documentation/stable/0.35/tutorials/algorithms/08_factorizers.html  depricated\n",
    "\n",
    "https://qiskit.org/documentation/stable/0.26/tutorials/algorithms/09_textbook_algorithms.html\n"
   ]
  },
  {
   "cell_type": "code",
   "execution_count": 1,
   "id": "08fdff35-2117-45bc-80b4-1d6bb3cc3959",
   "metadata": {},
   "outputs": [
    {
     "ename": "ModuleNotFoundError",
     "evalue": "No module named 'qiskit.util'",
     "output_type": "error",
     "traceback": [
      "\u001b[0;31m---------------------------------------------------------------------------\u001b[0m",
      "\u001b[0;31mModuleNotFoundError\u001b[0m                       Traceback (most recent call last)",
      "Cell \u001b[0;32mIn[1], line 4\u001b[0m\n\u001b[1;32m      2\u001b[0m \u001b[38;5;28;01mimport\u001b[39;00m \u001b[38;5;21;01mnumpy\u001b[39;00m \u001b[38;5;28;01mas\u001b[39;00m \u001b[38;5;21;01mnp\u001b[39;00m\n\u001b[1;32m      3\u001b[0m \u001b[38;5;28;01mfrom\u001b[39;00m \u001b[38;5;21;01mqiskit\u001b[39;00m \u001b[38;5;28;01mimport\u001b[39;00m BasicAer\n\u001b[0;32m----> 4\u001b[0m \u001b[38;5;28;01mfrom\u001b[39;00m \u001b[38;5;21;01mqiskit\u001b[39;00m\u001b[38;5;21;01m.\u001b[39;00m\u001b[38;5;21;01maqua\u001b[39;00m \u001b[38;5;28;01mimport\u001b[39;00m QuantumInstance\n\u001b[1;32m      5\u001b[0m \u001b[38;5;28;01mfrom\u001b[39;00m \u001b[38;5;21;01mqiskit\u001b[39;00m\u001b[38;5;21;01m.\u001b[39;00m\u001b[38;5;21;01maqua\u001b[39;00m\u001b[38;5;21;01m.\u001b[39;00m\u001b[38;5;21;01malgorithms\u001b[39;00m \u001b[38;5;28;01mimport\u001b[39;00m BernsteinVazirani, DeutschJozsa, Simon, Shor\n\u001b[1;32m      6\u001b[0m \u001b[38;5;28;01mfrom\u001b[39;00m \u001b[38;5;21;01mqiskit\u001b[39;00m\u001b[38;5;21;01m.\u001b[39;00m\u001b[38;5;21;01maqua\u001b[39;00m\u001b[38;5;21;01m.\u001b[39;00m\u001b[38;5;21;01mcomponents\u001b[39;00m\u001b[38;5;21;01m.\u001b[39;00m\u001b[38;5;21;01moracles\u001b[39;00m \u001b[38;5;28;01mimport\u001b[39;00m TruthTableOracle\n",
      "File \u001b[0;32m~/projects/quantum_computing/ibm/QCenvironment/lib/python3.9/site-packages/qiskit/aqua/__init__.py:75\u001b[0m\n\u001b[1;32m     73\u001b[0m \u001b[38;5;28;01mfrom\u001b[39;00m \u001b[38;5;21;01m.\u001b[39;00m\u001b[38;5;21;01maqua_error\u001b[39;00m \u001b[38;5;28;01mimport\u001b[39;00m AquaError\n\u001b[1;32m     74\u001b[0m \u001b[38;5;28;01mfrom\u001b[39;00m \u001b[38;5;21;01m.\u001b[39;00m\u001b[38;5;21;01mmissing_optional_library_error\u001b[39;00m \u001b[38;5;28;01mimport\u001b[39;00m MissingOptionalLibraryError\n\u001b[0;32m---> 75\u001b[0m \u001b[38;5;28;01mfrom\u001b[39;00m \u001b[38;5;21;01m.\u001b[39;00m\u001b[38;5;21;01maqua_globals\u001b[39;00m \u001b[38;5;28;01mimport\u001b[39;00m aqua_globals\n\u001b[1;32m     76\u001b[0m \u001b[38;5;28;01mfrom\u001b[39;00m \u001b[38;5;21;01m.\u001b[39;00m\u001b[38;5;21;01mquantum_instance\u001b[39;00m \u001b[38;5;28;01mimport\u001b[39;00m QuantumInstance\n\u001b[1;32m     77\u001b[0m \u001b[38;5;28;01mfrom\u001b[39;00m \u001b[38;5;21;01m.\u001b[39;00m\u001b[38;5;21;01malgorithms\u001b[39;00m \u001b[38;5;28;01mimport\u001b[39;00m QuantumAlgorithm\n",
      "File \u001b[0;32m~/projects/quantum_computing/ibm/QCenvironment/lib/python3.9/site-packages/qiskit/aqua/aqua_globals.py:19\u001b[0m\n\u001b[1;32m     16\u001b[0m \u001b[38;5;28;01mimport\u001b[39;00m \u001b[38;5;21;01mlogging\u001b[39;00m\n\u001b[1;32m     18\u001b[0m \u001b[38;5;28;01mimport\u001b[39;00m \u001b[38;5;21;01mnumpy\u001b[39;00m \u001b[38;5;28;01mas\u001b[39;00m \u001b[38;5;21;01mnp\u001b[39;00m\n\u001b[0;32m---> 19\u001b[0m \u001b[38;5;28;01mfrom\u001b[39;00m \u001b[38;5;21;01mqiskit\u001b[39;00m\u001b[38;5;21;01m.\u001b[39;00m\u001b[38;5;21;01mutil\u001b[39;00m \u001b[38;5;28;01mimport\u001b[39;00m local_hardware_info\n\u001b[1;32m     20\u001b[0m \u001b[38;5;28;01mimport\u001b[39;00m \u001b[38;5;21;01mqiskit\u001b[39;00m\n\u001b[1;32m     22\u001b[0m \u001b[38;5;28;01mfrom\u001b[39;00m \u001b[38;5;21;01m.\u001b[39;00m\u001b[38;5;21;01maqua_error\u001b[39;00m \u001b[38;5;28;01mimport\u001b[39;00m AquaError\n",
      "\u001b[0;31mModuleNotFoundError\u001b[0m: No module named 'qiskit.util'"
     ]
    }
   ],
   "source": [
    "import math\n",
    "import numpy as np\n",
    "from qiskit import BasicAer\n",
    "from qiskit.aqua import QuantumInstance\n",
    "from qiskit.aqua.algorithms import BernsteinVazirani, DeutschJozsa, Simon, Shor\n",
    "from qiskit.aqua.components.oracles import TruthTableOracle"
   ]
  },
  {
   "cell_type": "code",
   "execution_count": 2,
   "id": "dc650873",
   "metadata": {},
   "outputs": [
    {
     "ename": "NameError",
     "evalue": "name 'Shor' is not defined",
     "output_type": "error",
     "traceback": [
      "\u001b[0;31m---------------------------------------------------------------------------\u001b[0m",
      "\u001b[0;31mNameError\u001b[0m                                 Traceback (most recent call last)",
      "Cell \u001b[0;32mIn[2], line 2\u001b[0m\n\u001b[1;32m      1\u001b[0m N \u001b[38;5;241m=\u001b[39m \u001b[38;5;241m15\u001b[39m\n\u001b[0;32m----> 2\u001b[0m shor \u001b[38;5;241m=\u001b[39m \u001b[43mShor\u001b[49m(N)\n\u001b[1;32m      3\u001b[0m backend \u001b[38;5;241m=\u001b[39m BasicAer\u001b[38;5;241m.\u001b[39mget_backend(\u001b[38;5;124m'\u001b[39m\u001b[38;5;124mqasm_simulator\u001b[39m\u001b[38;5;124m'\u001b[39m)\n\u001b[1;32m      4\u001b[0m quantum_instance \u001b[38;5;241m=\u001b[39m QuantumInstance(backend, shots\u001b[38;5;241m=\u001b[39m\u001b[38;5;241m1024\u001b[39m)\n",
      "\u001b[0;31mNameError\u001b[0m: name 'Shor' is not defined"
     ]
    }
   ],
   "source": [
    "N = 15\n",
    "shor = Shor(N)\n",
    "backend = BasicAer.get_backend('qasm_simulator')\n",
    "quantum_instance = QuantumInstance(backend, shots=1024)\n",
    "result = shor.run(quantum_instance)\n",
    "print(f\"The list of factors of {N} as computed by the Shor's algorithm is {result['factors'][0]}.\")"
   ]
  },
  {
   "cell_type": "code",
   "execution_count": 3,
   "id": "ef0ee864",
   "metadata": {},
   "outputs": [
    {
     "ename": "NameError",
     "evalue": "name 'Aer' is not defined",
     "output_type": "error",
     "traceback": [
      "\u001b[0;31m---------------------------------------------------------------------------\u001b[0m",
      "\u001b[0;31mNameError\u001b[0m                                 Traceback (most recent call last)",
      "Cell \u001b[0;32mIn[3], line 2\u001b[0m\n\u001b[1;32m      1\u001b[0m N \u001b[38;5;241m=\u001b[39m \u001b[38;5;241m15\u001b[39m\n\u001b[0;32m----> 2\u001b[0m backend \u001b[38;5;241m=\u001b[39m \u001b[43mAer\u001b[49m\u001b[38;5;241m.\u001b[39mget_backend(\u001b[38;5;124m'\u001b[39m\u001b[38;5;124maer_simulator\u001b[39m\u001b[38;5;124m'\u001b[39m)\n\u001b[1;32m      3\u001b[0m quantum_instance \u001b[38;5;241m=\u001b[39m QuantumInstance(backend, shots\u001b[38;5;241m=\u001b[39m\u001b[38;5;241m1024\u001b[39m)\n\u001b[1;32m      4\u001b[0m shor \u001b[38;5;241m=\u001b[39m Shor(quantum_instance\u001b[38;5;241m=\u001b[39mquantum_instance)\n",
      "\u001b[0;31mNameError\u001b[0m: name 'Aer' is not defined"
     ]
    }
   ],
   "source": [
    "N = 15\n",
    "backend = Aer.get_backend('aer_simulator')\n",
    "quantum_instance = QuantumInstance(backend, shots=1024)\n",
    "shor = Shor(quantum_instance=quantum_instance)\n",
    "result = shor.factor(N)\n",
    "print(f\"The list of factors of {N} as computed by the Shor's algorithm is {result.factors[0]}.\")\n"
   ]
  },
  {
   "cell_type": "code",
   "execution_count": 4,
   "id": "1faacb43",
   "metadata": {},
   "outputs": [
    {
     "name": "stdout",
     "output_type": "stream",
     "text": [
      "Computed of qubits for circuit: 18\n"
     ]
    },
    {
     "ename": "NameError",
     "evalue": "name 'shor' is not defined",
     "output_type": "error",
     "traceback": [
      "\u001b[0;31m---------------------------------------------------------------------------\u001b[0m",
      "\u001b[0;31mNameError\u001b[0m                                 Traceback (most recent call last)",
      "Cell \u001b[0;32mIn[4], line 2\u001b[0m\n\u001b[1;32m      1\u001b[0m \u001b[38;5;28mprint\u001b[39m(\u001b[38;5;124mf\u001b[39m\u001b[38;5;124m'\u001b[39m\u001b[38;5;124mComputed of qubits for circuit: \u001b[39m\u001b[38;5;132;01m{\u001b[39;00m\u001b[38;5;241m4\u001b[39m\u001b[38;5;250m \u001b[39m\u001b[38;5;241m*\u001b[39m\u001b[38;5;250m \u001b[39mmath\u001b[38;5;241m.\u001b[39mceil(math\u001b[38;5;241m.\u001b[39mlog(N,\u001b[38;5;250m \u001b[39m\u001b[38;5;241m2\u001b[39m))\u001b[38;5;250m \u001b[39m\u001b[38;5;241m+\u001b[39m\u001b[38;5;250m \u001b[39m\u001b[38;5;241m2\u001b[39m\u001b[38;5;132;01m}\u001b[39;00m\u001b[38;5;124m'\u001b[39m)\n\u001b[0;32m----> 2\u001b[0m \u001b[38;5;28mprint\u001b[39m(\u001b[38;5;124mf\u001b[39m\u001b[38;5;124m'\u001b[39m\u001b[38;5;124mActual number of qubits of circuit: \u001b[39m\u001b[38;5;132;01m{\u001b[39;00mshor\u001b[38;5;241m.\u001b[39mconstruct_circuit(N)\u001b[38;5;241m.\u001b[39mnum_qubits\u001b[38;5;132;01m}\u001b[39;00m\u001b[38;5;124m'\u001b[39m)\n",
      "\u001b[0;31mNameError\u001b[0m: name 'shor' is not defined"
     ]
    }
   ],
   "source": [
    "print(f'Computed of qubits for circuit: {4 * math.ceil(math.log(N, 2)) + 2}')\n",
    "print(f'Actual number of qubits of circuit: {shor.construct_circuit(N).num_qubits}')\n"
   ]
  },
  {
   "cell_type": "code",
   "execution_count": null,
   "id": "8b822ac3",
   "metadata": {},
   "outputs": [],
   "source": []
  },
  {
   "cell_type": "code",
   "execution_count": null,
   "id": "9397b8f6-5bee-44da-8e6b-276d41fe8fde",
   "metadata": {},
   "outputs": [],
   "source": []
  }
 ],
 "metadata": {
  "kernelspec": {
   "display_name": "Python 3 (ipykernel)",
   "language": "python",
   "name": "python3"
  },
  "language_info": {
   "codemirror_mode": {
    "name": "ipython",
    "version": 3
   },
   "file_extension": ".py",
   "mimetype": "text/x-python",
   "name": "python",
   "nbconvert_exporter": "python",
   "pygments_lexer": "ipython3",
   "version": "3.9.17"
  }
 },
 "nbformat": 4,
 "nbformat_minor": 5
}
