{
 "cells": [
  {
   "cell_type": "markdown",
   "metadata": {},
   "source": [
    "# Quantum Computer lab 4\n",
    "\n",
    "These lab exercises are **NOT** part of the assesment of the module, but they should be useful training for the coursework."
   ]
  },
  {
   "cell_type": "code",
   "execution_count": null,
   "metadata": {},
   "outputs": [],
   "source": []
  },
  {
   "cell_type": "code",
   "execution_count": null,
   "metadata": {},
   "outputs": [],
   "source": []
  },
  {
   "cell_type": "markdown",
   "metadata": {},
   "source": [
    "* Please run the code to make sure it works, then try the questions.\n",
    "* The idea is to explore the Shor algorithm written classical or implemented on the IBM qiskit simulator.\n",
    "\n",
    "There is documentation about qiskit at https://qiskit.org/ and https://learning.quantum-computing.ibm.com/"
   ]
  },
  {
   "cell_type": "markdown",
   "metadata": {},
   "source": [
    "## Installing qiskit\n",
    "\n",
    "There is information on installing qiskit at:  https://qiskit.org/documentation/getting_started.html\n",
    "I really recommend using a virtual enviroment to install qiskit\n",
    "\n",
    "* You can run on IBM's simulator using  https://quantum-computing.ibm.com/\n"
   ]
  },
  {
   "cell_type": "markdown",
   "metadata": {},
   "source": [
    "##  Installing qiskit on the University machines\n",
    "These instructions are modified from the material developed by Vincent Drach. Unfortunately, you will have to do this everytime you start a new session.\n",
    "\n",
    "* Start the anconda prompt\n",
    "* conda create --name qiskit\n",
    "* conda activate qiskit\n",
    "* conda install numpy matplotlib spyder-kernels\n",
    "* pip install qiskit\n",
    "* pip install qiskit-aer\n",
    "* pip install qiskit[visualization]\n",
    "\n",
    "In Spyder Open Tools -> Preferences\n",
    "select \"Use the following python interpreter\" and select the path of your installation\n",
    "\n",
    "C:/Users/vdrach/.conda/envs/qiskit/python.exe\n",
    "\n",
    "To check the enviroment, restart the kernel in the console\n",
    "\n",
    "\n"
   ]
  },
  {
   "cell_type": "code",
   "execution_count": null,
   "metadata": {},
   "outputs": [],
   "source": []
  }
 ],
 "metadata": {
  "kernelspec": {
   "display_name": "Python 3 (ipykernel)",
   "language": "python",
   "name": "python3"
  },
  "language_info": {
   "codemirror_mode": {
    "name": "ipython",
    "version": 3
   },
   "file_extension": ".py",
   "mimetype": "text/x-python",
   "name": "python",
   "nbconvert_exporter": "python",
   "pygments_lexer": "ipython3",
   "version": "3.9.17"
  }
 },
 "nbformat": 4,
 "nbformat_minor": 4
}
