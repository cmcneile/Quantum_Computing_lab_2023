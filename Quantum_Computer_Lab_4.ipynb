{
 "cells": [
  {
   "cell_type": "markdown",
   "metadata": {},
   "source": [
    "# Quantum Computer lab 4\n",
    "\n",
    "These lab exercises are **NOT** part of the assesment of the module, but they should be useful training for the coursework.\n",
    "\n",
    "* These lab exercises are on quantum errors and noise"
   ]
  },
  {
   "cell_type": "code",
   "execution_count": null,
   "metadata": {},
   "outputs": [],
   "source": []
  },
  {
   "cell_type": "code",
   "execution_count": null,
   "metadata": {},
   "outputs": [],
   "source": []
  },
  {
   "cell_type": "markdown",
   "metadata": {},
   "source": [
    "* Please run the code to make sure it works, then try the questions.\n",
    "* The idea is to explore the Shor algorithm written classical or implemented on the IBM qiskit simulator.\n",
    "\n",
    "There is documentation about qiskit at https://qiskit.org/ and https://learning.quantum-computing.ibm.com/"
   ]
  },
  {
   "cell_type": "markdown",
   "metadata": {},
   "source": [
    "## Installing qiskit\n",
    "\n",
    "There is information on installing qiskit at:  https://qiskit.org/documentation/getting_started.html\n",
    "I really recommend using a virtual enviroment to install qiskit\n",
    "\n",
    "* You can run on IBM's simulator using  https://quantum-computing.ibm.com/\n"
   ]
  },
  {
   "cell_type": "markdown",
   "metadata": {},
   "source": [
    "##  Installing qiskit on the University machines\n",
    "These instructions are modified from the material developed by Vincent Drach. Unfortunately, you will have to do this everytime you start a new session.\n",
    "\n",
    "* Start the anconda prompt\n",
    "* conda create --name qiskit\n",
    "* conda activate qiskit\n",
    "* conda install numpy matplotlib spyder-kernels\n",
    "* pip install qiskit\n",
    "* pip install qiskit-aer\n",
    "* pip install qiskit[visualization]\n",
    "\n",
    "In Spyder Open Tools -> Preferences\n",
    "select \"Use the following python interpreter\" and select the path of your installation\n",
    "\n",
    "C:/Users/vdrach/.conda/envs/qiskit/python.exe\n",
    "\n",
    "To check the enviroment, restart the kernel in the console\n",
    "\n",
    "\n"
   ]
  },
  {
   "cell_type": "markdown",
   "metadata": {},
   "source": [
    "## What to do\n",
    "\n",
    "The python code below runs circuits with and without noise.\n",
    "\n",
    "*  First run all the code.\n",
    "*  You can then adjust the amount of noise and study the change in measurements.\n",
    "*  At the end of the notebook is some material on repetition codes. This is not required for the coursework.\n"
   ]
  },
  {
   "cell_type": "markdown",
   "metadata": {},
   "source": [
    "##  Noise model\n",
    "\n",
    "* https://qiskit.org/ecosystem/aer/tutorials/3_building_noise_models.html   (This was the old documentation for the quantum noise qiskit\n",
    "  modules.)\n",
    "* https://qiskit.org/ecosystem/aer/apidocs/aer_noise.html\n",
    "* https://docs.quantum.ibm.com/api/qiskit/0.34/aer_noise   the recent documentation from IBM"
   ]
  },
  {
   "cell_type": "code",
   "execution_count": 5,
   "metadata": {},
   "outputs": [],
   "source": [
    "import numpy as np\n",
    "from qiskit import QuantumCircuit, transpile\n",
    "from qiskit.quantum_info import Kraus, SuperOp\n",
    "from qiskit_aer import AerSimulator\n",
    "from qiskit.tools.visualization import plot_histogram\n",
    "\n",
    "# Import from Qiskit Aer noise module\n",
    "from qiskit_aer.noise import (NoiseModel, QuantumError, ReadoutError,\n",
    "    pauli_error, depolarizing_error, thermal_relaxation_error)"
   ]
  },
  {
   "cell_type": "code",
   "execution_count": 6,
   "metadata": {},
   "outputs": [
    {
     "name": "stdout",
     "output_type": "stream",
     "text": [
      "NoiseModel:\n",
      "  Basis gates: ['cx', 'id', 'rz', 'sx', 'u1', 'u2', 'u3']\n",
      "  Instructions with noise: ['u1', 'u3', 'u2']\n",
      "  All-qubits errors: ['u1', 'u2', 'u3']\n"
     ]
    }
   ],
   "source": [
    "# Create an empty noise model\n",
    "noise_model = NoiseModel()\n",
    "\n",
    "# Add depolarizing error to all single qubit u1, u2, u3 gates\n",
    "error = depolarizing_error(0.05, 1)\n",
    "noise_model.add_all_qubit_quantum_error(error, ['u1', 'u2', 'u3'])\n",
    "\n",
    "# Print noise model info\n",
    "print(noise_model)"
   ]
  },
  {
   "cell_type": "code",
   "execution_count": 7,
   "metadata": {},
   "outputs": [
    {
     "name": "stdout",
     "output_type": "stream",
     "text": [
      "        ┌───┐                ░ ┌─┐         \n",
      "   q_0: ┤ H ├──■─────────────░─┤M├─────────\n",
      "        └───┘┌─┴─┐           ░ └╥┘┌─┐      \n",
      "   q_1: ─────┤ X ├──■────────░──╫─┤M├──────\n",
      "             └───┘┌─┴─┐      ░  ║ └╥┘┌─┐   \n",
      "   q_2: ──────────┤ X ├──■───░──╫──╫─┤M├───\n",
      "                  └───┘┌─┴─┐ ░  ║  ║ └╥┘┌─┐\n",
      "   q_3: ───────────────┤ X ├─░──╫──╫──╫─┤M├\n",
      "                       └───┘ ░  ║  ║  ║ └╥┘\n",
      "meas: 4/════════════════════════╩══╩══╩══╩═\n",
      "                                0  1  2  3 \n"
     ]
    }
   ],
   "source": [
    "# System Specification\n",
    "n_qubits = 4\n",
    "circ = QuantumCircuit(n_qubits)\n",
    "\n",
    "# Test Circuit\n",
    "circ.h(0)\n",
    "for qubit in range(n_qubits - 1):\n",
    "    circ.cx(qubit, qubit + 1)\n",
    "circ.measure_all()\n",
    "print(circ)"
   ]
  },
  {
   "cell_type": "markdown",
   "metadata": {},
   "source": [
    "## No quantum error\n",
    "\n",
    "The cell below runs the simulator with no quantum noises"
   ]
  },
  {
   "cell_type": "code",
   "execution_count": 8,
   "metadata": {},
   "outputs": [
    {
     "data": {
      "image/png": "[encoded data removed]",
      "text/plain": [
       "<Figure size 700x500 with 1 Axes>"
      ]
     },
     "execution_count": 8,
     "metadata": {},
     "output_type": "execute_result"
    }
   ],
   "source": [
    "# Ideal simulator and execution\n",
    "sim_ideal = AerSimulator()\n",
    "result_ideal = sim_ideal.run(circ).result()\n",
    "plot_histogram(result_ideal.get_counts(0))\n"
   ]
  },
  {
   "cell_type": "markdown",
   "metadata": {},
   "source": [
    "## Building a noise model"
   ]
  },
  {
   "cell_type": "code",
   "execution_count": 18,
   "metadata": {},
   "outputs": [
    {
     "name": "stdout",
     "output_type": "stream",
     "text": [
      "NoiseModel:\n",
      "  Basis gates: ['cx', 'id', 'rz', 'sx', 'u1', 'u2', 'u3']\n",
      "  Instructions with noise: ['u2', 'u1', 'u3', 'reset', 'measure']\n",
      "  All-qubits errors: ['reset', 'measure', 'u1', 'u2', 'u3']\n"
     ]
    }
   ],
   "source": [
    "# Example error probabilities\n",
    "p_reset = 0.03\n",
    "p_meas = 0.1\n",
    "p_gate1 = 0.05\n",
    "\n",
    "# QuantumError objects\n",
    "error_reset = pauli_error([('X', p_reset), ('I', 1 - p_reset)])\n",
    "error_meas = pauli_error([('X',p_meas), ('I', 1 - p_meas)])\n",
    "error_gate1 = pauli_error([('X',p_gate1), ('I', 1 - p_gate1)])\n",
    "error_gate2 = error_gate1.tensor(error_gate1)\n",
    "noise_bit_flip.add_all_qubit_quantum_error\n",
    "# Add errors to noise model\n",
    "noise_bit_flip = NoiseModel()\n",
    "noise_bit_flip.add_all_qubit_quantum_error(error_reset, \"reset\")\n",
    "noise_bit_flip.add_all_qubit_quantum_error(error_meas, \"measure\")\n",
    "noise_bit_flip.add_all_qubit_quantum_error(error_gate1, [\"u1\", \"u2\", \"u3\"])\n",
    "noise_bit_flip.add_all_qubit_quantum_error(error_gate2, [\"cx\"])\n",
    "\n",
    "print(noise_bit_flip)"
   ]
  },
  {
   "cell_type": "markdown",
   "metadata": {},
   "source": [
    "## Run the noise model"
   ]
  },
  {
   "cell_type": "code",
   "execution_count": 19,
   "metadata": {},
   "outputs": [],
   "source": [
    "# Create noisy simulator backend\n",
    "sim_noise = AerSimulator(noise_model=noise_bit_flip)\n",
    "\n",
    "# Transpile circuit for noisy basis gates\n",
    "circ_tnoise = transpile(circ, sim_noise)\n",
    "\n",
    "# Run and get counts\n",
    "result_bit_flip = sim_noise.run(circ_tnoise).result()\n",
    "counts_bit_flip = result_bit_flip.get_counts(0)\n",
    "\n"
   ]
  },
  {
   "cell_type": "markdown",
   "metadata": {},
   "source": [
    "The results show the effect of the noise on the measurements"
   ]
  },
  {
   "cell_type": "code",
   "execution_count": 20,
   "metadata": {},
   "outputs": [
    {
     "data": {
      "image/png": "[encoded data removed]",
      "text/plain": [
       "<Figure size 700x500 with 1 Axes>"
      ]
     },
     "execution_count": 20,
     "metadata": {},
     "output_type": "execute_result"
    }
   ],
   "source": [
    "# Plot noisy output\n",
    "plot_histogram(counts_bit_flip)"
   ]
  },
  {
   "cell_type": "markdown",
   "metadata": {},
   "source": [
    "**QUESTION**\n",
    "\n",
    "* what happens when you reduce or increase p_reset, p_meas or p_gate?\n",
    "* what happens if you comment out some of the code around Add errors to noise model\n"
   ]
  },
  {
   "cell_type": "code",
   "execution_count": 23,
   "metadata": {},
   "outputs": [
    {
     "name": "stdout",
     "output_type": "stream",
     "text": [
      "Help on method add_all_qubit_quantum_error in module qiskit_aer.noise.noise_model:\n",
      "\n",
      "add_all_qubit_quantum_error(error, instructions, warnings=True) method of qiskit_aer.noise.noise_model.NoiseModel instance\n",
      "    Add a quantum error to the noise model that applies to all qubits.\n",
      "    \n",
      "    Args:\n",
      "        error (QuantumError): the quantum error object.\n",
      "        instructions (str or list[str] or\n",
      "                      Instruction or\n",
      "                      list[Instruction]): the instructions error applies to.\n",
      "        warnings (bool): Display warning if appending to an instruction that\n",
      "                         already has an error (Default: True).\n",
      "    \n",
      "    Raises:\n",
      "        NoiseError: if the input parameters are invalid.\n",
      "    \n",
      "    Additional Information:\n",
      "        If the error object is ideal it will not be added to the model.\n",
      "\n"
     ]
    }
   ],
   "source": [
    "# you can read the documentation for some of the functions using\n",
    "help(noise_bit_flip.add_all_qubit_quantum_error)"
   ]
  },
  {
   "cell_type": "markdown",
   "metadata": {},
   "source": [
    "## A second noise model"
   ]
  },
  {
   "cell_type": "code",
   "execution_count": 7,
   "metadata": {},
   "outputs": [
    {
     "name": "stdout",
     "output_type": "stream",
     "text": [
      "NoiseModel:\n",
      "  Basis gates: ['cx', 'id', 'rz', 'sx', 'u1', 'u2', 'u3']\n",
      "  Instructions with noise: ['u1', 'u2', 'u3']\n",
      "  All-qubits errors: ['u1', 'u2', 'u3']\n"
     ]
    }
   ],
   "source": [
    "# Create an empty noise model\n",
    "noise_model = NoiseModel()\n",
    "\n",
    "# Add depolarizing error to all single qubit u1, u2, u3 gates\n",
    "error = depolarizing_error(0.05, 1)\n",
    "noise_model.add_all_qubit_quantum_error(error, ['u1', 'u2', 'u3'])\n",
    "\n",
    "# Print noise model info\n",
    "print(noise_model)"
   ]
  },
  {
   "cell_type": "code",
   "execution_count": null,
   "metadata": {},
   "outputs": [],
   "source": []
  },
  {
   "cell_type": "code",
   "execution_count": 8,
   "metadata": {},
   "outputs": [
    {
     "data": {
      "image/png": "[encoded data removed]",
      "text/plain": [
       "<Figure size 700x500 with 1 Axes>"
      ]
     },
     "execution_count": 8,
     "metadata": {},
     "output_type": "execute_result"
    }
   ],
   "source": [
    "# Create noisy simulator backend\n",
    "sim_noise = AerSimulator(noise_model=noise_model)\n",
    "\n",
    "# Transpile circuit for noisy basis gates\n",
    "circ_tnoise = transpile(circ, sim_noise)\n",
    "\n",
    "# Run and get counts\n",
    "result_bit_flip = sim_noise.run(circ_tnoise).result()\n",
    "counts_bit_flip = result_bit_flip.get_counts(0)\n",
    "\n",
    "# Plot noisy output\n",
    "plot_histogram(counts_bit_flip)"
   ]
  },
  {
   "cell_type": "code",
   "execution_count": 21,
   "metadata": {},
   "outputs": [
    {
     "name": "stdout",
     "output_type": "stream",
     "text": [
      "Help on function pauli_error in module qiskit_aer.noise.errors.standard_errors:\n",
      "\n",
      "pauli_error(noise_ops)\n",
      "    Return a mixed Pauli quantum error channel.\n",
      "    \n",
      "    The input should be a list of pairs ``(P[j], p[j])``, where\n",
      "    ``P[j]`` is a ``Pauli`` object or string label, and ``p[j]`` is a\n",
      "    probability. All probabilities must sum to 1 for the input ops to\n",
      "    be valid.\n",
      "    \n",
      "    Args:\n",
      "        noise_ops (list[pair[Pauli, double]]): Pauli error terms.\n",
      "    \n",
      "    Returns:\n",
      "        QuantumError: The quantum error object.\n",
      "    \n",
      "    Raises:\n",
      "        NoiseError: If depolarizing probability is less than 0 or greater than 1.\n",
      "\n"
     ]
    }
   ],
   "source": [
    "help(pauli_error)"
   ]
  },
  {
   "cell_type": "markdown",
   "metadata": {},
   "source": [
    "## Noise model from a \"real system\"\n",
    "\n",
    "This example came from https://qiskit.org/ecosystem/aer/apidocs/aer_noise.html\n",
    "\n",
    "See more information\n",
    "https://docs.quantum.ibm.com/api/qiskit/qiskit.providers.fake_provider.FakeVigo"
   ]
  },
  {
   "cell_type": "code",
   "execution_count": 24,
   "metadata": {},
   "outputs": [
    {
     "data": {
      "image/png": "[encoded data removed]",
      "text/plain": [
       "<Figure size 700x500 with 1 Axes>"
      ]
     },
     "execution_count": 24,
     "metadata": {},
     "output_type": "execute_result"
    }
   ],
   "source": [
    "from qiskit import QuantumCircuit, transpile\n",
    "from qiskit_aer import AerSimulator\n",
    "from qiskit.visualization import plot_histogram\n",
    "from qiskit_aer.noise import NoiseModel\n",
    "from qiskit.providers.fake_provider import FakeVigo\n",
    "\n",
    "# Build noise model from backend properties\n",
    "backend = FakeVigo()\n",
    "noise_model = NoiseModel.from_backend(backend)\n",
    "\n",
    "# Get coupling map from backend\n",
    "coupling_map = backend.configuration().coupling_map\n",
    "\n",
    "# Get basis gates from noise model\n",
    "basis_gates = noise_model.basis_gates\n",
    "\n",
    "# Make a circuit\n",
    "circ = QuantumCircuit(3, 3)\n",
    "circ.h(0)\n",
    "circ.cx(0, 1)\n",
    "circ.cx(1, 2)\n",
    "circ.measure([0, 1, 2], [0, 1, 2])\n",
    "\n",
    "# Perform a noise simulation\n",
    "backend = AerSimulator(noise_model=noise_model,\n",
    "                       coupling_map=coupling_map,\n",
    "                       basis_gates=basis_gates)\n",
    "transpiled_circuit = transpile(circ, backend)\n",
    "result = backend.run(transpiled_circuit).result()\n",
    "\n",
    "counts = result.get_counts(0)\n",
    "plot_histogram(counts)"
   ]
  },
  {
   "cell_type": "code",
   "execution_count": 25,
   "metadata": {},
   "outputs": [
    {
     "data": {
      "text/plain": [
       "[[0, 1], [1, 0], [1, 2], [1, 3], [2, 1], [3, 1], [3, 4], [4, 3]]"
      ]
     },
     "execution_count": 25,
     "metadata": {},
     "output_type": "execute_result"
    }
   ],
   "source": [
    "coupling_map "
   ]
  },
  {
   "cell_type": "code",
   "execution_count": 27,
   "metadata": {},
   "outputs": [
    {
     "data": {
      "text/plain": [
       "AerSimulator('aer_simulator'\n",
       "             noise_model=<NoiseModel on ['id', 'sx', 'x', 'cx', 'measure']>)"
      ]
     },
     "execution_count": 27,
     "metadata": {},
     "output_type": "execute_result"
    }
   ],
   "source": [
    "backend"
   ]
  },
  {
   "cell_type": "code",
   "execution_count": 26,
   "metadata": {},
   "outputs": [
    {
     "name": "stdout",
     "output_type": "stream",
     "text": [
      "Help on method from_backend in module qiskit_aer.noise.noise_model:\n",
      "\n",
      "from_backend(backend, gate_error=True, readout_error=True, thermal_relaxation=True, temperature=0, gate_lengths=None, gate_length_units='ns', warnings=None) method of builtins.type instance\n",
      "    Return a noise model derived from a devices backend properties.\n",
      "    \n",
      "    This function generates a noise model based on:\n",
      "    \n",
      "    * 1 and 2 qubit gate errors consisting of a\n",
      "      :func:`depolarizing_error` followed\n",
      "      by a :func:`thermal_relaxation_error`.\n",
      "    \n",
      "    * Single qubit :class:`ReadoutError` on all measurements.\n",
      "    \n",
      "    The error (noise) parameters are tuned for each individual qubit based on\n",
      "    the :math:`T_1`, :math:`T_2`, frequency and readout error parameters for\n",
      "    each qubit, and the gate error and gate time parameters for each gate\n",
      "    obtained from the device backend properties.\n",
      "    \n",
      "    Note that if un-physical parameters are supplied, they are internally truncated to\n",
      "    the theoretical bound values. For example, if :math:`T_2 > 2 T_1`, :math:`T_2`\n",
      "    parameter will be truncated to :math:`2 T_1`.\n",
      "    \n",
      "    **Additional Information**\n",
      "    \n",
      "    The noise model includes the following errors:\n",
      "    \n",
      "    * If ``readout_error=True`` include single qubit readout\n",
      "      errors on measurements.\n",
      "    \n",
      "    * If ``gate_error=True`` and ``thermal_relaxation=True`` include:\n",
      "    \n",
      "        * Single-qubit gate errors consisting of a :func:`depolarizing_error`\n",
      "          followed by a :func:`thermal_relaxation_error` for the qubit the\n",
      "          gate acts on.\n",
      "    \n",
      "        * Two-qubit gate errors consisting of a 2-qubit\n",
      "          :func:`depolarizing_error` followed by single qubit\n",
      "          :func:`thermal_relaxation_error` on each qubit participating in\n",
      "          the gate.\n",
      "    \n",
      "    * If ``gate_error=True`` is ``True`` and ``thermal_relaxation=False``:\n",
      "    \n",
      "        * An N-qubit :func:`depolarizing_error` on each N-qubit gate.\n",
      "    \n",
      "    * If ``gate_error=False`` and ``thermal_relaxation=True`` include\n",
      "      single-qubit :func:`thermal_relaxation_errors` on each qubits\n",
      "      participating in a multi-qubit gate.\n",
      "    \n",
      "    For best practice in simulating a backend make sure that the\n",
      "    circuit is compiled using the set of basis gates in the noise\n",
      "    module by setting ``basis_gates=noise_model.basis_gates``\n",
      "    and using the device coupling map with\n",
      "    ``coupling_map=backend.configuration().coupling_map``\n",
      "    \n",
      "    **Specifying custom gate times**\n",
      "    \n",
      "    The ``gate_lengths`` kwarg can be used to specify custom gate times\n",
      "    to add gate errors using the :math:`T_1` and :math:`T_2` values from\n",
      "    the backend properties. This should be passed as a list of tuples\n",
      "    ``gate_lengths=[(name, value), ...]``\n",
      "    where ``name`` is the gate name string, and ``value`` is the gate time\n",
      "    in nanoseconds.\n",
      "    \n",
      "    If a custom gate is specified that already exists in\n",
      "    the backend properties, the ``gate_lengths`` value will override the\n",
      "    gate time value from the backend properties.\n",
      "    If non-default values are used gate_lengths should be a list\n",
      "    \n",
      "    Args:\n",
      "        backend (Backend): backend. For BackendV2, `warnings`\n",
      "                           options are ignored, and their default values are used.\n",
      "        gate_error (bool): Include depolarizing gate errors (Default: True).\n",
      "        readout_error (Bool): Include readout errors in model\n",
      "                              (Default: True).\n",
      "        thermal_relaxation (Bool): Include thermal relaxation errors\n",
      "                                   (Default: True).\n",
      "        temperature (double): qubit temperature in milli-Kelvin (mK) for\n",
      "                              thermal relaxation errors (Default: 0).\n",
      "        gate_lengths (list): Custom gate times for thermal relaxation errors.\n",
      "                              Used to extend or override the gate times in\n",
      "                              the backend properties (Default: None))\n",
      "        gate_length_units (str): Time units for gate length values in\n",
      "                                 gate_lengths. Can be 'ns', 'ms', 'us',\n",
      "                                 or 's' (Default: 'ns').\n",
      "        warnings (bool): DEPRECATED, Display warnings (Default: None).\n",
      "    \n",
      "    Returns:\n",
      "        NoiseModel: An approximate noise model for the device backend.\n",
      "    \n",
      "    Raises:\n",
      "        NoiseError: If the input backend is not valid.\n",
      "\n"
     ]
    }
   ],
   "source": [
    "help( NoiseModel.from_backend)"
   ]
  },
  {
   "cell_type": "markdown",
   "metadata": {},
   "source": [
    "## Question\n",
    "\n",
    "Look at the list of quantum computers. https://en.wikipedia.org/wiki/List_of_quantum_processorsVi\n",
    "* How many qubits has Vigo? What is the experimental realization of the qubits?\n",
    "\n",
    "Can you what other IBM machines are available as noise models from the qiskit documentation? "
   ]
  },
  {
   "cell_type": "code",
   "execution_count": null,
   "metadata": {},
   "outputs": [],
   "source": []
  },
  {
   "cell_type": "markdown",
   "metadata": {},
   "source": [
    "##  Additional reading\n",
    "\n",
    "There are additional examples at:\n",
    "https://github.com/qiskit-community/qiskit-presentations/blob/master/2019-02-26_QiskitCamp/QiskitCamp_Simulation.ipynb"
   ]
  },
  {
   "cell_type": "markdown",
   "metadata": {},
   "source": [
    "##  Repetition Codes\n",
    "\n",
    "This is material from https://qiskit.org/documentation/stable/0.28/tutorials/noise/6_repetition_code.html\n",
    "\n",
    "This python code is **NOT** required for the coursework.\n",
    "\n",
    "It is best to start by reading the above web page, because it has text and explanations.\n",
    "\n",
    "The example python codes up physical qubits into logical qubits. It the does calculations on the logical qubits and checks that they are\n",
    "resilant against noise.\n"
   ]
  },
  {
   "cell_type": "code",
   "execution_count": 1,
   "metadata": {},
   "outputs": [
    {
     "name": "stdout",
     "output_type": "stream",
     "text": [
      "                        \n",
      "code_qubit_0: ──■───────\n",
      "                │       \n",
      "code_qubit_1: ──┼────■──\n",
      "              ┌─┴─┐┌─┴─┐\n",
      "  link_qubit: ┤ X ├┤ X ├\n",
      "              └───┘└───┘\n"
     ]
    }
   ],
   "source": [
    "from qiskit import *\n",
    "cq = QuantumRegister(2,'code_qubit')\n",
    "lq = QuantumRegister(1,'link_qubit')\n",
    "qc = QuantumCircuit(cq,lq)\n",
    "qc.cx(cq[0],lq[0])\n",
    "qc.cx(cq[1],lq[0])\n",
    "print(qc)"
   ]
  },
  {
   "cell_type": "code",
   "execution_count": 2,
   "metadata": {},
   "outputs": [
    {
     "name": "stderr",
     "output_type": "stream",
     "text": [
      "/tmp/ipykernel_113819/3621201268.py:1: DeprecationWarning: The qiskit.ignis package is deprecated and has been supersceded by the qiskit-experiments project. Refer to the migration guide: https://github.com/Qiskit/qiskit-ignis#migration-guide on how to migrate to the new project.\n",
      "  from qiskit.ignis.verification.topological_codes import RepetitionCode\n"
     ]
    }
   ],
   "source": [
    "from qiskit.ignis.verification.topological_codes import RepetitionCode\n",
    "from qiskit.ignis.verification.topological_codes import GraphDecoder\n",
    "from qiskit.ignis.verification.topological_codes import lookuptable_decoding, postselection_decoding\n"
   ]
  },
  {
   "cell_type": "code",
   "execution_count": 3,
   "metadata": {},
   "outputs": [],
   "source": [
    "d = 3\n",
    "T = 2\n",
    "code = RepetitionCode(d,T)"
   ]
  },
  {
   "cell_type": "code",
   "execution_count": 4,
   "metadata": {},
   "outputs": [
    {
     "data": {
      "text/plain": [
       "{'code_qubit', 'link_qubit'}"
      ]
     },
     "execution_count": 4,
     "metadata": {},
     "output_type": "execute_result"
    }
   ],
   "source": [
    "code.qubit_registers"
   ]
  },
  {
   "cell_type": "code",
   "execution_count": 5,
   "metadata": {},
   "outputs": [
    {
     "data": {
      "text/plain": [
       "QuantumRegister(3, 'code_qubit')"
      ]
     },
     "execution_count": 5,
     "metadata": {},
     "output_type": "execute_result"
    }
   ],
   "source": [
    "code.code_qubit\n",
    "\n"
   ]
  },
  {
   "cell_type": "code",
   "execution_count": 6,
   "metadata": {},
   "outputs": [
    {
     "name": "stdout",
     "output_type": "stream",
     "text": [
      "\n",
      "========= logical 0 =========\n",
      "\n",
      "                    ┌───┐     ┌───┐     ┌─┐   ┌───┐     ┌───┐        ┌─┐      »\n",
      "      link_qubit_0: ┤ X ├─────┤ X ├─────┤M├───┤ X ├─────┤ X ├────────┤M├──────»\n",
      "                    └─┬─┘┌───┐└─┬─┘┌───┐└╥┘┌─┐└─┬─┘┌───┐└─┬─┘┌───┐   └╥┘┌─┐   »\n",
      "      link_qubit_1: ──┼──┤ X ├──┼──┤ X ├─╫─┤M├──┼──┤ X ├──┼──┤ X ├────╫─┤M├───»\n",
      "                      │  └─┬─┘  │  └─┬─┘ ║ └╥┘  │  └─┬─┘  │  └─┬─┘┌─┐ ║ └╥┘   »\n",
      "      code_qubit_0: ──■────┼────┼────┼───╫──╫───■────┼────┼────┼──┤M├─╫──╫────»\n",
      "                           │    │    │   ║  ║        │    │    │  └╥┘ ║  ║ ┌─┐»\n",
      "      code_qubit_1: ───────■────■────┼───╫──╫────────■────■────┼───╫──╫──╫─┤M├»\n",
      "                                     │   ║  ║                  │   ║  ║  ║ └╥┘»\n",
      "      code_qubit_2: ─────────────────■───╫──╫──────────────────■───╫──╫──╫──╫─»\n",
      "                                         ║  ║                      ║  ║  ║  ║ »\n",
      "round_0_link_bit: 2/═════════════════════╩══╩══════════════════════╬══╬══╬══╬═»\n",
      "                                         0  1                      ║  ║  ║  ║ »\n",
      "round_1_link_bit: 2/═══════════════════════════════════════════════╬══╩══╩══╬═»\n",
      "                                                                   ║  0  1  ║ »\n",
      "        code_bit: 3/═══════════════════════════════════════════════╩════════╩═»\n",
      "                                                                   0        1 »\n",
      "«                       \n",
      "«      link_qubit_0: ───\n",
      "«                       \n",
      "«      link_qubit_1: ───\n",
      "«                       \n",
      "«      code_qubit_0: ───\n",
      "«                       \n",
      "«      code_qubit_1: ───\n",
      "«                    ┌─┐\n",
      "«      code_qubit_2: ┤M├\n",
      "«                    └╥┘\n",
      "«round_0_link_bit: 2/═╬═\n",
      "«                     ║ \n",
      "«round_1_link_bit: 2/═╬═\n",
      "«                     ║ \n",
      "«        code_bit: 3/═╩═\n",
      "«                     2 \n",
      "\n",
      "========= logical 1 =========\n",
      "\n",
      "                         ┌───┐     ┌───┐     ┌─┐   ┌───┐     ┌───┐        ┌─┐»\n",
      "      link_qubit_0: ─────┤ X ├─────┤ X ├─────┤M├───┤ X ├─────┤ X ├────────┤M├»\n",
      "                         └─┬─┘┌───┐└─┬─┘┌───┐└╥┘┌─┐└─┬─┘┌───┐└─┬─┘┌───┐   └╥┘»\n",
      "      link_qubit_1: ───────┼──┤ X ├──┼──┤ X ├─╫─┤M├──┼──┤ X ├──┼──┤ X ├────╫─»\n",
      "                    ┌───┐  │  └─┬─┘  │  └─┬─┘ ║ └╥┘  │  └─┬─┘  │  └─┬─┘┌─┐ ║ »\n",
      "      code_qubit_0: ┤ X ├──■────┼────┼────┼───╫──╫───■────┼────┼────┼──┤M├─╫─»\n",
      "                    ├───┤       │    │    │   ║  ║        │    │    │  └╥┘ ║ »\n",
      "      code_qubit_1: ┤ X ├───────■────■────┼───╫──╫────────■────■────┼───╫──╫─»\n",
      "                    ├───┤                 │   ║  ║                  │   ║  ║ »\n",
      "      code_qubit_2: ┤ X ├─────────────────■───╫──╫──────────────────■───╫──╫─»\n",
      "                    └───┘                     ║  ║                      ║  ║ »\n",
      "round_0_link_bit: 2/══════════════════════════╩══╩══════════════════════╬══╬═»\n",
      "                                              0  1                      ║  ║ »\n",
      "round_1_link_bit: 2/════════════════════════════════════════════════════╬══╩═»\n",
      "                                                                        ║  0 »\n",
      "        code_bit: 3/════════════════════════════════════════════════════╩════»\n",
      "                                                                        0    »\n",
      "«                             \n",
      "«      link_qubit_0: ─────────\n",
      "«                    ┌─┐      \n",
      "«      link_qubit_1: ┤M├──────\n",
      "«                    └╥┘      \n",
      "«      code_qubit_0: ─╫───────\n",
      "«                     ║ ┌─┐   \n",
      "«      code_qubit_1: ─╫─┤M├───\n",
      "«                     ║ └╥┘┌─┐\n",
      "«      code_qubit_2: ─╫──╫─┤M├\n",
      "«                     ║  ║ └╥┘\n",
      "«round_0_link_bit: 2/═╬══╬══╬═\n",
      "«                     ║  ║  ║ \n",
      "«round_1_link_bit: 2/═╩══╬══╬═\n",
      "«                     1  ║  ║ \n",
      "«        code_bit: 3/════╩══╩═\n",
      "«                        1  2 \n"
     ]
    }
   ],
   "source": [
    "for log in ['0','1']:\n",
    "    print('\\n========= logical',log,'=========\\n')\n",
    "    print( code.circuit[log] )"
   ]
  },
  {
   "cell_type": "code",
   "execution_count": 7,
   "metadata": {},
   "outputs": [],
   "source": [
    "empty_code = RepetitionCode(3,0)\n"
   ]
  },
  {
   "cell_type": "code",
   "execution_count": 8,
   "metadata": {},
   "outputs": [
    {
     "name": "stdout",
     "output_type": "stream",
     "text": [
      "\n",
      "========= logical 0 =========\n",
      "\n",
      "              \n",
      "link_qubit_0: \n",
      "              \n",
      "link_qubit_1: \n",
      "              \n",
      "code_qubit_0: \n",
      "              \n",
      "code_qubit_1: \n",
      "              \n",
      "code_qubit_2: \n",
      "              \n",
      "\n",
      "========= logical 1 =========\n",
      "\n",
      "                   \n",
      "link_qubit_0: ─────\n",
      "                   \n",
      "link_qubit_1: ─────\n",
      "              ┌───┐\n",
      "code_qubit_0: ┤ X ├\n",
      "              ├───┤\n",
      "code_qubit_1: ┤ X ├\n",
      "              ├───┤\n",
      "code_qubit_2: ┤ X ├\n",
      "              └───┘\n"
     ]
    }
   ],
   "source": [
    "def print_circuits(code):\n",
    "    for log in ['0','1']:\n",
    "        print('\\n========= logical',log,'=========\\n')\n",
    "        print( code.circuit[log] )\n",
    "\n",
    "print_circuits(empty_code)"
   ]
  },
  {
   "cell_type": "code",
   "execution_count": 9,
   "metadata": {},
   "outputs": [
    {
     "name": "stdout",
     "output_type": "stream",
     "text": [
      "\n",
      "========= logical 0 =========\n",
      "\n",
      "                    ┌───┐     ┌───┐     ┌─┐   \n",
      "      link_qubit_0: ┤ X ├─────┤ X ├─────┤M├───\n",
      "                    └─┬─┘┌───┐└─┬─┘┌───┐└╥┘┌─┐\n",
      "      link_qubit_1: ──┼──┤ X ├──┼──┤ X ├─╫─┤M├\n",
      "                      │  └─┬─┘  │  └─┬─┘ ║ └╥┘\n",
      "      code_qubit_0: ──■────┼────┼────┼───╫──╫─\n",
      "                           │    │    │   ║  ║ \n",
      "      code_qubit_1: ───────■────■────┼───╫──╫─\n",
      "                                     │   ║  ║ \n",
      "      code_qubit_2: ─────────────────■───╫──╫─\n",
      "                                         ║  ║ \n",
      "round_0_link_bit: 2/═════════════════════╩══╩═\n",
      "                                         0  1 \n",
      "\n",
      "========= logical 1 =========\n",
      "\n",
      "                         ┌───┐     ┌───┐     ┌─┐   \n",
      "      link_qubit_0: ─────┤ X ├─────┤ X ├─────┤M├───\n",
      "                         └─┬─┘┌───┐└─┬─┘┌───┐└╥┘┌─┐\n",
      "      link_qubit_1: ───────┼──┤ X ├──┼──┤ X ├─╫─┤M├\n",
      "                    ┌───┐  │  └─┬─┘  │  └─┬─┘ ║ └╥┘\n",
      "      code_qubit_0: ┤ X ├──■────┼────┼────┼───╫──╫─\n",
      "                    ├───┤       │    │    │   ║  ║ \n",
      "      code_qubit_1: ┤ X ├───────■────■────┼───╫──╫─\n",
      "                    ├───┤                 │   ║  ║ \n",
      "      code_qubit_2: ┤ X ├─────────────────■───╫──╫─\n",
      "                    └───┘                     ║  ║ \n",
      "round_0_link_bit: 2/══════════════════════════╩══╩═\n",
      "                                              0  1 \n"
     ]
    }
   ],
   "source": [
    "empty_code.syndrome_measurement()\n",
    "print_circuits(empty_code)"
   ]
  },
  {
   "cell_type": "code",
   "execution_count": 10,
   "metadata": {},
   "outputs": [
    {
     "name": "stdout",
     "output_type": "stream",
     "text": [
      "\n",
      "========= logical 0 =========\n",
      "\n",
      "                    ┌───┐     ┌───┐          ┌─┐   \n",
      "      link_qubit_0: ┤ X ├─────┤ X ├──────────┤M├───\n",
      "                    └─┬─┘┌───┐└─┬─┘┌───┐     └╥┘┌─┐\n",
      "      link_qubit_1: ──┼──┤ X ├──┼──┤ X ├──────╫─┤M├\n",
      "                      │  └─┬─┘  │  └─┬─┘┌───┐ ║ └╥┘\n",
      "      code_qubit_0: ──■────┼────┼────┼──┤ X ├─╫──╫─\n",
      "                           │    │    │  ├───┤ ║  ║ \n",
      "      code_qubit_1: ───────■────■────┼──┤ X ├─╫──╫─\n",
      "                                     │  ├───┤ ║  ║ \n",
      "      code_qubit_2: ─────────────────■──┤ X ├─╫──╫─\n",
      "                                        └───┘ ║  ║ \n",
      "round_0_link_bit: 2/══════════════════════════╩══╩═\n",
      "                                              0  1 \n",
      "\n",
      "========= logical 1 =========\n",
      "\n",
      "                         ┌───┐     ┌───┐          ┌─┐   \n",
      "      link_qubit_0: ─────┤ X ├─────┤ X ├──────────┤M├───\n",
      "                         └─┬─┘┌───┐└─┬─┘┌───┐     └╥┘┌─┐\n",
      "      link_qubit_1: ───────┼──┤ X ├──┼──┤ X ├──────╫─┤M├\n",
      "                    ┌───┐  │  └─┬─┘  │  └─┬─┘┌───┐ ║ └╥┘\n",
      "      code_qubit_0: ┤ X ├──■────┼────┼────┼──┤ X ├─╫──╫─\n",
      "                    ├───┤       │    │    │  ├───┤ ║  ║ \n",
      "      code_qubit_1: ┤ X ├───────■────■────┼──┤ X ├─╫──╫─\n",
      "                    ├───┤                 │  ├───┤ ║  ║ \n",
      "      code_qubit_2: ┤ X ├─────────────────■──┤ X ├─╫──╫─\n",
      "                    └───┘                    └───┘ ║  ║ \n",
      "round_0_link_bit: 2/═══════════════════════════════╩══╩═\n",
      "                                                   0  1 \n"
     ]
    }
   ],
   "source": [
    "empty_code.x()\n",
    "print_circuits(empty_code)"
   ]
  },
  {
   "cell_type": "code",
   "execution_count": 11,
   "metadata": {},
   "outputs": [
    {
     "name": "stdout",
     "output_type": "stream",
     "text": [
      "\n",
      "========= logical 0 =========\n",
      "\n",
      "                    ┌───┐     ┌───┐          ┌─┐            \n",
      "      link_qubit_0: ┤ X ├─────┤ X ├──────────┤M├────────────\n",
      "                    └─┬─┘┌───┐└─┬─┘┌───┐     └╥┘┌─┐         \n",
      "      link_qubit_1: ──┼──┤ X ├──┼──┤ X ├──────╫─┤M├─────────\n",
      "                      │  └─┬─┘  │  └─┬─┘┌───┐ ║ └╥┘┌─┐      \n",
      "      code_qubit_0: ──■────┼────┼────┼──┤ X ├─╫──╫─┤M├──────\n",
      "                           │    │    │  ├───┤ ║  ║ └╥┘┌─┐   \n",
      "      code_qubit_1: ───────■────■────┼──┤ X ├─╫──╫──╫─┤M├───\n",
      "                                     │  ├───┤ ║  ║  ║ └╥┘┌─┐\n",
      "      code_qubit_2: ─────────────────■──┤ X ├─╫──╫──╫──╫─┤M├\n",
      "                                        └───┘ ║  ║  ║  ║ └╥┘\n",
      "round_0_link_bit: 2/══════════════════════════╩══╩══╬══╬══╬═\n",
      "                                              0  1  ║  ║  ║ \n",
      "        code_bit: 3/════════════════════════════════╩══╩══╩═\n",
      "                                                    0  1  2 \n",
      "\n",
      "========= logical 1 =========\n",
      "\n",
      "                         ┌───┐     ┌───┐          ┌─┐            \n",
      "      link_qubit_0: ─────┤ X ├─────┤ X ├──────────┤M├────────────\n",
      "                         └─┬─┘┌───┐└─┬─┘┌───┐     └╥┘┌─┐         \n",
      "      link_qubit_1: ───────┼──┤ X ├──┼──┤ X ├──────╫─┤M├─────────\n",
      "                    ┌───┐  │  └─┬─┘  │  └─┬─┘┌───┐ ║ └╥┘┌─┐      \n",
      "      code_qubit_0: ┤ X ├──■────┼────┼────┼──┤ X ├─╫──╫─┤M├──────\n",
      "                    ├───┤       │    │    │  ├───┤ ║  ║ └╥┘┌─┐   \n",
      "      code_qubit_1: ┤ X ├───────■────■────┼──┤ X ├─╫──╫──╫─┤M├───\n",
      "                    ├───┤                 │  ├───┤ ║  ║  ║ └╥┘┌─┐\n",
      "      code_qubit_2: ┤ X ├─────────────────■──┤ X ├─╫──╫──╫──╫─┤M├\n",
      "                    └───┘                    └───┘ ║  ║  ║  ║ └╥┘\n",
      "round_0_link_bit: 2/═══════════════════════════════╩══╩══╬══╬══╬═\n",
      "                                                   0  1  ║  ║  ║ \n",
      "        code_bit: 3/═════════════════════════════════════╩══╩══╩═\n",
      "                                                         0  1  2 \n"
     ]
    }
   ],
   "source": [
    "empty_code.readout()\n",
    "print_circuits(empty_code)"
   ]
  },
  {
   "cell_type": "markdown",
   "metadata": {},
   "source": [
    "## Running a repetition code¶\n",
    "\n",
    "The code object produces the circuits required for the code. The user can then run them using any method they prefer, allowing full control over compilation, backends, noise models and so on.\n",
    "\n",
    "For example, here we run them without noise on the qasm_simulator."
   ]
  },
  {
   "cell_type": "code",
   "execution_count": 12,
   "metadata": {},
   "outputs": [
    {
     "name": "stdout",
     "output_type": "stream",
     "text": [
      "\n",
      "========= logical 0 =========\n",
      "\n",
      "{'000 00 00': 1024}\n",
      "\n",
      "========= logical 1 =========\n",
      "\n",
      "{'111 00 00': 1024}\n"
     ]
    }
   ],
   "source": [
    "circuits = code.get_circuit_list()\n",
    "job = execute( circuits, Aer.get_backend('qasm_simulator') )\n",
    "raw_results = {}\n",
    "for log in ['0','1']:\n",
    "    raw_results[log] = job.result().get_counts(log)\n",
    "    print('\\n========= logical',log,'=========\\n')\n",
    "    print(raw_results[log])"
   ]
  },
  {
   "cell_type": "code",
   "execution_count": 13,
   "metadata": {},
   "outputs": [
    {
     "data": {
      "text/plain": [
       "{'0': {'0 0  00 00 00': 1024}, '1': {'1 1  00 00 00': 1024}}"
      ]
     },
     "execution_count": 13,
     "metadata": {},
     "output_type": "execute_result"
    }
   ],
   "source": [
    "code.process_results( raw_results )\n",
    "\n"
   ]
  },
  {
   "cell_type": "code",
   "execution_count": 14,
   "metadata": {},
   "outputs": [],
   "source": [
    "from qiskit.providers.aer.noise import NoiseModel\n",
    "from qiskit.providers.aer.noise.errors import pauli_error, depolarizing_error\n",
    "\n",
    "def get_noise(p_meas,p_gate):\n",
    "\n",
    "    error_meas = pauli_error([('X',p_meas), ('I', 1 - p_meas)])\n",
    "    error_gate1 = depolarizing_error(p_gate, 1)\n",
    "    error_gate2 = error_gate1.tensor(error_gate1)\n",
    "\n",
    "    noise_model = NoiseModel()\n",
    "    noise_model.add_all_qubit_quantum_error(error_meas, \"measure\")\n",
    "    noise_model.add_all_qubit_quantum_error(error_gate1, [\"u1\", \"u2\", \"u3\"])\n",
    "    noise_model.add_all_qubit_quantum_error(error_gate2, [\"cx\"])\n",
    "\n",
    "    return noise_model"
   ]
  },
  {
   "cell_type": "code",
   "execution_count": 15,
   "metadata": {},
   "outputs": [],
   "source": [
    "noise_model = get_noise(0.04,0.04)\n",
    "\n"
   ]
  },
  {
   "cell_type": "code",
   "execution_count": 16,
   "metadata": {},
   "outputs": [],
   "source": [
    "def get_syndrome(code,noise_model,shots=1014):\n",
    "\n",
    "    circuits = code.get_circuit_list()\n",
    "\n",
    "    job = execute( circuits, Aer.get_backend('qasm_simulator'),noise_model=noise_model, shots=shots )\n",
    "    raw_results = {}\n",
    "    for log in ['0','1']:\n",
    "        raw_results[log] = job.result().get_counts(log)\n",
    "\n",
    "    return code.process_results( raw_results )"
   ]
  },
  {
   "cell_type": "code",
   "execution_count": 17,
   "metadata": {},
   "outputs": [
    {
     "data": {
      "text/plain": [
       "{'0': {'1 0  10 00 11': 1,\n",
       "  '0 1  00 01 11': 2,\n",
       "  '0 0  00 10 01': 5,\n",
       "  '0 0  01 11 01': 2,\n",
       "  '1 0  00 11 01': 1,\n",
       "  '0 0  01 10 11': 2,\n",
       "  '1 0  00 10 11': 3,\n",
       "  '0 1  00 11 10': 1,\n",
       "  '0 1  00 11 01': 3,\n",
       "  '1 0  10 10 10': 3,\n",
       "  '1 0  00 01 11': 3,\n",
       "  '0 1  10 10 01': 2,\n",
       "  '0 0  00 01 10': 19,\n",
       "  '0 0  10 11 01': 8,\n",
       "  '0 0  10 01 11': 1,\n",
       "  '0 0  01 00 01': 7,\n",
       "  '0 1  01 01 01': 3,\n",
       "  '0 0  01 01 00': 55,\n",
       "  '0 1  01 00 00': 1,\n",
       "  '0 1  00 01 00': 17,\n",
       "  '0 0  10 10 00': 55,\n",
       "  '0 1  00 10 11': 5,\n",
       "  '0 0  00 11 11': 2,\n",
       "  '0 0  00 10 10': 42,\n",
       "  '1 0  00 01 00': 2,\n",
       "  '0 0  00 01 01': 48,\n",
       "  '1 0  00 00 10': 44,\n",
       "  '0 0  00 00 00': 523,\n",
       "  '1 0  00 10 00': 17,\n",
       "  '0 0  10 00 01': 1,\n",
       "  '0 1  10 11 00': 2,\n",
       "  '0 0  10 01 00': 1,\n",
       "  '0 1  00 00 01': 34,\n",
       "  '1 0  10 11 00': 1,\n",
       "  '1 1  00 00 11': 2,\n",
       "  '0 0  00 00 11': 25,\n",
       "  '1 1  11 01 10': 1,\n",
       "  '1 0  00 11 10': 2,\n",
       "  '0 0  10 10 11': 5,\n",
       "  '0 0  00 11 00': 19,\n",
       "  '0 0  11 11 00': 4,\n",
       "  '0 0  01 10 00': 11,\n",
       "  '0 0  01 11 10': 4,\n",
       "  '1 0  01 01 10': 2,\n",
       "  '1 0  00 00 01': 3,\n",
       "  '1 0  10 00 00': 4,\n",
       "  '0 0  01 00 10': 4,\n",
       "  '0 0  10 00 10': 8,\n",
       "  '0 0  01 01 11': 4},\n",
       " '1': {'1 0  11 10 00': 1,\n",
       "  '0 1  00 11 01': 1,\n",
       "  '0 1  11 11 10': 1,\n",
       "  '1 1  00 01 01': 43,\n",
       "  '1 1  11 00 00': 14,\n",
       "  '0 1  01 11 00': 2,\n",
       "  '1 0  10 01 01': 1,\n",
       "  '0 1  00 00 10': 31,\n",
       "  '1 1  00 10 10': 46,\n",
       "  '1 0  01 10 01': 2,\n",
       "  '0 1  11 00 10': 1,\n",
       "  '1 1  11 10 10': 2,\n",
       "  '1 1  00 11 00': 16,\n",
       "  '1 0  01 01 10': 1,\n",
       "  '1 0  00 00 01': 33,\n",
       "  '1 0  00 01 00': 9,\n",
       "  '1 1  00 01 10': 17,\n",
       "  '1 0  10 11 00': 1,\n",
       "  '1 1  01 10 00': 18,\n",
       "  '0 1  00 00 01': 1,\n",
       "  '1 0  01 10 10': 2,\n",
       "  '1 0  00 10 11': 3,\n",
       "  '1 1  01 01 11': 6,\n",
       "  '1 0  01 00 00': 12,\n",
       "  '1 1  01 01 00': 47,\n",
       "  '1 1  01 11 10': 7,\n",
       "  '0 1  10 00 00': 15,\n",
       "  '0 1  00 10 00': 15,\n",
       "  '1 1  01 11 01': 1,\n",
       "  '0 1  01 01 10': 3,\n",
       "  '1 1  00 00 11': 39,\n",
       "  '1 0  10 10 01': 3,\n",
       "  '0 1  11 10 00': 1,\n",
       "  '1 1  10 00 10': 5,\n",
       "  '0 1  10 01 01': 2,\n",
       "  '1 0  00 01 11': 4,\n",
       "  '1 1  10 10 00': 38,\n",
       "  '0 1  10 10 10': 4,\n",
       "  '0 1  10 11 11': 1,\n",
       "  '0 1  01 00 00': 1,\n",
       "  '1 1  00 11 11': 3,\n",
       "  '1 1  11 11 00': 5,\n",
       "  '0 0  01 00 10': 3,\n",
       "  '1 1  10 10 11': 4,\n",
       "  '1 1  11 00 11': 2,\n",
       "  '1 0  01 01 01': 6,\n",
       "  '1 0  00 00 10': 1,\n",
       "  '0 1  00 01 11': 2,\n",
       "  '1 1  00 00 00': 507,\n",
       "  '1 1  00 10 01': 3,\n",
       "  '1 1  11 01 10': 1,\n",
       "  '1 1  10 01 11': 1,\n",
       "  '1 1  01 10 11': 2,\n",
       "  '0 0  00 00 11': 4,\n",
       "  '1 1  11 10 01': 2,\n",
       "  '1 0  01 00 11': 3,\n",
       "  '0 1  10 01 10': 2,\n",
       "  '0 1  00 01 00': 2,\n",
       "  '0 1  01 10 10': 1,\n",
       "  '0 0  10 11 10': 1,\n",
       "  '1 0  01 11 00': 1,\n",
       "  '1 1  01 00 10': 1,\n",
       "  '1 1  01 00 01': 5,\n",
       "  '1 1  10 11 01': 2}}"
      ]
     },
     "execution_count": 17,
     "metadata": {},
     "output_type": "execute_result"
    }
   ],
   "source": [
    "get_syndrome(code,noise_model)"
   ]
  },
  {
   "cell_type": "markdown",
   "metadata": {},
   "source": [
    "## Decoding a repetition code¶\n",
    "\n",
    "Noisy results can change the logical value at readout, and so affect our ability to read out the logical qubit. This can be mitigated by looking at the syndrome values. These can tell us whether or not the logical values are most likely to have changed, and so allow us to correct for the errors. The process of analyzing the syndrome to correct for the errors is called ‘decoding’. We do this by building a decoding object for our code."
   ]
  },
  {
   "cell_type": "code",
   "execution_count": 18,
   "metadata": {},
   "outputs": [],
   "source": [
    "dec = GraphDecoder( RepetitionCode(4,2) )"
   ]
  },
  {
   "cell_type": "markdown",
   "metadata": {},
   "source": [
    "This analyzes the code by seeing how different kinds of error change the output. With this information, along with a decoding algorithm, we can determine what the logical value is most likely to have been.\n",
    "\n",
    "For example, let’s use the ‘matching’ algorithm to decode, which is based on minimum weight perfect matching. This takes specific output strings as input. We’ll give it the simple example string '1 0  001 100 100', for a logical 1 that has suffered two errors."
   ]
  },
  {
   "cell_type": "code",
   "execution_count": 19,
   "metadata": {},
   "outputs": [
    {
     "data": {
      "text/plain": [
       "'1 1'"
      ]
     },
     "execution_count": 19,
     "metadata": {},
     "output_type": "execute_result"
    }
   ],
   "source": [
    "dec.matching('1 0  001 100 100')"
   ]
  },
  {
   "cell_type": "markdown",
   "metadata": {},
   "source": [
    "The output is what the logical part should have been. As you can see, the decoder correctly determined that the readout should have been of a logical 1.\n",
    "\n",
    "When we take many samples, we can determine the probability with which the decoder is incorrect. This should decrease exponentially as the code size is increased, since the configurations of noise that fool the decoder become less likely. The probability of a logical error is calculated using the logical_prob() method. This runs matching by default, but other algorithms can be specified by the algorithm kwarg.\n",
    "\n"
   ]
  },
  {
   "cell_type": "code",
   "execution_count": 20,
   "metadata": {},
   "outputs": [
    {
     "name": "stdout",
     "output_type": "stream",
     "text": [
      "d = 3 ,log = 0\n",
      "logical error probability for matching      = 0.0264892578125\n",
      "logical error probability for lookup table  = 0.0211181640625\n",
      "logical error probability for postselection = 0.0\n",
      "\n",
      "d = 3 ,log = 1\n",
      "logical error probability for matching      = 0.033203125\n",
      "logical error probability for lookup table  = 0.0179443359375\n",
      "logical error probability for postselection = 0.0\n",
      "\n",
      "\n",
      "d = 4 ,log = 0\n",
      "logical error probability for matching      = 0.0191650390625\n",
      "logical error probability for lookup table  = 0.01025390625\n",
      "logical error probability for postselection = 0.0\n",
      "\n",
      "d = 4 ,log = 1\n",
      "logical error probability for matching      = 0.0252685546875\n",
      "logical error probability for lookup table  = 0.012939453125\n",
      "logical error probability for postselection = 0.0\n",
      "\n",
      "\n",
      "d = 5 ,log = 0\n",
      "logical error probability for matching      = 0.0091552734375\n",
      "logical error probability for lookup table  = 0.001953125\n",
      "logical error probability for postselection = 0.0\n",
      "\n",
      "d = 5 ,log = 1\n",
      "logical error probability for matching      = 0.0130615234375\n",
      "logical error probability for lookup table  = 0.001708984375\n",
      "logical error probability for postselection = 0.0\n",
      "\n",
      "\n",
      "d = 6 ,log = 0\n",
      "logical error probability for matching      = 0.005126953125\n",
      "logical error probability for lookup table  = 0.0001220703125\n",
      "logical error probability for postselection = 0.0\n",
      "\n",
      "d = 6 ,log = 1\n",
      "logical error probability for matching      = 0.005615234375\n",
      "logical error probability for lookup table  = 0.0001220703125\n",
      "logical error probability for postselection = 0.0\n",
      "\n",
      "\n",
      "d = 7 ,log = 0\n",
      "logical error probability for matching      = 0.0045166015625\n",
      "logical error probability for lookup table  = 0.0001220703125\n",
      "logical error probability for postselection = 0.0\n",
      "\n",
      "d = 7 ,log = 1\n",
      "logical error probability for matching      = 0.0042724609375\n",
      "logical error probability for lookup table  = 0.0\n",
      "logical error probability for postselection = 0.0\n",
      "\n",
      "\n"
     ]
    }
   ],
   "source": [
    "for d in range(3,8):\n",
    "\n",
    "    code = RepetitionCode(d,2)\n",
    "\n",
    "    results = get_syndrome(code,noise_model=noise_model,shots=8192)\n",
    "\n",
    "    dec = GraphDecoder(code)\n",
    "\n",
    "    logical_prob_match = dec.get_logical_prob(results)\n",
    "    logical_prob_lookup = lookuptable_decoding(results,results)\n",
    "    logical_prob_post = postselection_decoding(results)\n",
    "\n",
    "    for log in ['0','1']:\n",
    "        print('d =',d,',log =',log)\n",
    "        print('logical error probability for matching      =',logical_prob_match[log])\n",
    "        print('logical error probability for lookup table  =',logical_prob_lookup[log])\n",
    "        print('logical error probability for postselection =',logical_prob_post[log])\n",
    "        print('')\n",
    "    print('')\n"
   ]
  },
  {
   "cell_type": "code",
   "execution_count": null,
   "metadata": {},
   "outputs": [],
   "source": []
  }
 ],
 "metadata": {
  "kernelspec": {
   "display_name": "Python 3 (ipykernel)",
   "language": "python",
   "name": "python3"
  },
  "language_info": {
   "codemirror_mode": {
    "name": "ipython",
    "version": 3
   },
   "file_extension": ".py",
   "mimetype": "text/x-python",
   "name": "python",
   "nbconvert_exporter": "python",
   "pygments_lexer": "ipython3",
   "version": "3.9.17"
  }
 },
 "nbformat": 4,
 "nbformat_minor": 4
}
